{
  "nbformat": 4,
  "nbformat_minor": 0,
  "metadata": {
    "colab": {
      "name": "Projeto P&D UEA-IA",
      "provenance": [],
      "collapsed_sections": [],
      "authorship_tag": "ABX9TyPv5bHrD8ccSyaAnWHSu8yD",
      "include_colab_link": true
    },
    "kernelspec": {
      "name": "python3",
      "display_name": "Python 3"
    },
    "widgets": {
      "application/vnd.jupyter.widget-state+json": {
        "1b6c9e00718f4a21a7e6aaf89580ac14": {
          "model_module": "@jupyter-widgets/controls",
          "model_name": "VBoxModel",
          "state": {
            "_view_name": "VBoxView",
            "_dom_classes": [
              "widget-interact"
            ],
            "_model_name": "VBoxModel",
            "_view_module": "@jupyter-widgets/controls",
            "_model_module_version": "1.5.0",
            "_view_count": null,
            "_view_module_version": "1.5.0",
            "box_style": "",
            "layout": "IPY_MODEL_2cafa9b27c5a480d8895b88bbf28770c",
            "_model_module": "@jupyter-widgets/controls",
            "children": [
              "IPY_MODEL_d046294d7bf147dd8d4f9f2477499db6",
              "IPY_MODEL_7f94db1f51214c2a8b2a6477965412db",
              "IPY_MODEL_83c702261cfd49aeb2af3113e85eca48",
              "IPY_MODEL_c2464fe19726432395f730c22fa10456",
              "IPY_MODEL_8d4c5b624c164b45b9ff70a3948c29d0",
              "IPY_MODEL_cc21383cd1b14d688a8d45a15a2dfee4"
            ]
          }
        },
        "2cafa9b27c5a480d8895b88bbf28770c": {
          "model_module": "@jupyter-widgets/base",
          "model_name": "LayoutModel",
          "state": {
            "_view_name": "LayoutView",
            "grid_template_rows": null,
            "right": null,
            "justify_content": null,
            "_view_module": "@jupyter-widgets/base",
            "overflow": null,
            "_model_module_version": "1.2.0",
            "_view_count": null,
            "flex_flow": null,
            "width": null,
            "min_width": null,
            "border": null,
            "align_items": null,
            "bottom": null,
            "_model_module": "@jupyter-widgets/base",
            "top": null,
            "grid_column": null,
            "overflow_y": null,
            "overflow_x": null,
            "grid_auto_flow": null,
            "grid_area": null,
            "grid_template_columns": null,
            "flex": null,
            "_model_name": "LayoutModel",
            "justify_items": null,
            "grid_row": null,
            "max_height": null,
            "align_content": null,
            "visibility": null,
            "align_self": null,
            "height": null,
            "min_height": null,
            "padding": null,
            "grid_auto_rows": null,
            "grid_gap": null,
            "max_width": null,
            "order": null,
            "_view_module_version": "1.2.0",
            "grid_template_areas": null,
            "object_position": null,
            "object_fit": null,
            "grid_auto_columns": null,
            "margin": null,
            "display": null,
            "left": null
          }
        },
        "d046294d7bf147dd8d4f9f2477499db6": {
          "model_module": "@jupyter-widgets/controls",
          "model_name": "DropdownModel",
          "state": {
            "_options_labels": [
              "gini",
              "entropy"
            ],
            "_view_name": "DropdownView",
            "style": "IPY_MODEL_f8cce53ced694162bd040bc5070cdc60",
            "_dom_classes": [],
            "description": "crit",
            "_model_name": "DropdownModel",
            "index": 0,
            "_view_module": "@jupyter-widgets/controls",
            "_model_module_version": "1.5.0",
            "_view_count": null,
            "disabled": false,
            "_view_module_version": "1.5.0",
            "description_tooltip": null,
            "_model_module": "@jupyter-widgets/controls",
            "layout": "IPY_MODEL_d43a35c68ce5420dbe11ae57358d613e"
          }
        },
        "7f94db1f51214c2a8b2a6477965412db": {
          "model_module": "@jupyter-widgets/controls",
          "model_name": "DropdownModel",
          "state": {
            "_options_labels": [
              "best",
              "random"
            ],
            "_view_name": "DropdownView",
            "style": "IPY_MODEL_19cd660417674eea883cea4ff504ec8f",
            "_dom_classes": [],
            "description": "split",
            "_model_name": "DropdownModel",
            "index": 0,
            "_view_module": "@jupyter-widgets/controls",
            "_model_module_version": "1.5.0",
            "_view_count": null,
            "disabled": false,
            "_view_module_version": "1.5.0",
            "description_tooltip": null,
            "_model_module": "@jupyter-widgets/controls",
            "layout": "IPY_MODEL_e0967c1f8f0a4c4f849b35e69da295b7"
          }
        },
        "83c702261cfd49aeb2af3113e85eca48": {
          "model_module": "@jupyter-widgets/controls",
          "model_name": "DropdownModel",
          "state": {
            "_options_labels": [
              "1",
              "2",
              "3",
              "4",
              "5",
              "6",
              "7",
              "8",
              "10"
            ],
            "_view_name": "DropdownView",
            "style": "IPY_MODEL_4c06633ae40b439ea6eb75e772200f4d",
            "_dom_classes": [],
            "description": "depth",
            "_model_name": "DropdownModel",
            "index": 6,
            "_view_module": "@jupyter-widgets/controls",
            "_model_module_version": "1.5.0",
            "_view_count": null,
            "disabled": false,
            "_view_module_version": "1.5.0",
            "description_tooltip": null,
            "_model_module": "@jupyter-widgets/controls",
            "layout": "IPY_MODEL_525e469ca2db4eb584c6e1245d4b9b0e"
          }
        },
        "c2464fe19726432395f730c22fa10456": {
          "model_module": "@jupyter-widgets/controls",
          "model_name": "IntSliderModel",
          "state": {
            "_view_name": "IntSliderView",
            "style": "IPY_MODEL_038a40d7807946de8007a0b391ac8f14",
            "_dom_classes": [],
            "description": "min_samples_split",
            "step": 1,
            "_model_name": "IntSliderModel",
            "orientation": "horizontal",
            "max": 5,
            "_view_module": "@jupyter-widgets/controls",
            "_model_module_version": "1.5.0",
            "value": 5,
            "_view_count": null,
            "disabled": false,
            "_view_module_version": "1.5.0",
            "min": 1,
            "continuous_update": true,
            "readout_format": "d",
            "description_tooltip": null,
            "readout": true,
            "_model_module": "@jupyter-widgets/controls",
            "layout": "IPY_MODEL_ae68191d9a754493a39f960bc6b65372"
          }
        },
        "8d4c5b624c164b45b9ff70a3948c29d0": {
          "model_module": "@jupyter-widgets/controls",
          "model_name": "IntSliderModel",
          "state": {
            "_view_name": "IntSliderView",
            "style": "IPY_MODEL_b24cd512aba94b9693c5b2a4aee013ba",
            "_dom_classes": [],
            "description": "min_samples_leaf",
            "step": 1,
            "_model_name": "IntSliderModel",
            "orientation": "horizontal",
            "max": 5,
            "_view_module": "@jupyter-widgets/controls",
            "_model_module_version": "1.5.0",
            "value": 5,
            "_view_count": null,
            "disabled": false,
            "_view_module_version": "1.5.0",
            "min": 1,
            "continuous_update": true,
            "readout_format": "d",
            "description_tooltip": null,
            "readout": true,
            "_model_module": "@jupyter-widgets/controls",
            "layout": "IPY_MODEL_de56fba1832447589ca9c73bf6624e72"
          }
        },
        "cc21383cd1b14d688a8d45a15a2dfee4": {
          "model_module": "@jupyter-widgets/output",
          "model_name": "OutputModel",
          "state": {
            "_view_name": "OutputView",
            "msg_id": "",
            "_dom_classes": [],
            "_model_name": "OutputModel",
            "outputs": [
              {
                "output_type": "display_data",
                "metadata": {
                  "tags": []
                },
                "text/plain": "<IPython.core.display.SVG object>",
                "image/svg+xml": "<svg height=\"552pt\" viewBox=\"0.00 0.00 694.00 552.00\" width=\"694pt\" xmlns=\"http://www.w3.org/2000/svg\" xmlns:xlink=\"http://www.w3.org/1999/xlink\">\n<g class=\"graph\" id=\"graph0\" transform=\"scale(1 1) rotate(0) translate(4 548)\">\n<title>Tree</title>\n<polygon fill=\"#ffffff\" points=\"-4,4 -4,-548 690,-548 690,4 -4,4\" stroke=\"transparent\"/>\n<!-- 0 -->\n<g class=\"node\" id=\"node1\">\n<title>0</title>\n<polygon fill=\"#ffffff\" points=\"386,-544 243,-544 243,-461 386,-461 386,-544\" stroke=\"#000000\"/>\n<text fill=\"#000000\" font-family=\"Times,serif\" font-size=\"14.00\" text-anchor=\"middle\" x=\"314.5\" y=\"-528.8\">PetalWidthCm &lt;= 0.8</text>\n<text fill=\"#000000\" font-family=\"Times,serif\" font-size=\"14.00\" text-anchor=\"middle\" x=\"314.5\" y=\"-513.8\">gini = 0.667</text>\n<text fill=\"#000000\" font-family=\"Times,serif\" font-size=\"14.00\" text-anchor=\"middle\" x=\"314.5\" y=\"-498.8\">samples = 150</text>\n<text fill=\"#000000\" font-family=\"Times,serif\" font-size=\"14.00\" text-anchor=\"middle\" x=\"314.5\" y=\"-483.8\">value = [50, 50, 50]</text>\n<text fill=\"#000000\" font-family=\"Times,serif\" font-size=\"14.00\" text-anchor=\"middle\" x=\"314.5\" y=\"-468.8\">class = Iris-setosa</text>\n</g>\n<!-- 1 -->\n<g class=\"node\" id=\"node2\">\n<title>1</title>\n<polygon fill=\"#e58139\" points=\"297,-417.5 180,-417.5 180,-349.5 297,-349.5 297,-417.5\" stroke=\"#000000\"/>\n<text fill=\"#000000\" font-family=\"Times,serif\" font-size=\"14.00\" text-anchor=\"middle\" x=\"238.5\" y=\"-402.3\">gini = 0.0</text>\n<text fill=\"#000000\" font-family=\"Times,serif\" font-size=\"14.00\" text-anchor=\"middle\" x=\"238.5\" y=\"-387.3\">samples = 50</text>\n<text fill=\"#000000\" font-family=\"Times,serif\" font-size=\"14.00\" text-anchor=\"middle\" x=\"238.5\" y=\"-372.3\">value = [50, 0, 0]</text>\n<text fill=\"#000000\" font-family=\"Times,serif\" font-size=\"14.00\" text-anchor=\"middle\" x=\"238.5\" y=\"-357.3\">class = Iris-setosa</text>\n</g>\n<!-- 0&#45;&gt;1 -->\n<g class=\"edge\" id=\"edge1\">\n<title>0-&gt;1</title>\n<path d=\"M287.9189,-460.8796C280.826,-449.7735 273.1479,-437.7513 266.0063,-426.5691\" fill=\"none\" stroke=\"#000000\"/>\n<polygon fill=\"#000000\" points=\"268.7477,-424.3589 260.4154,-417.8149 262.8482,-428.1267 268.7477,-424.3589\" stroke=\"#000000\"/>\n<text fill=\"#000000\" font-family=\"Times,serif\" font-size=\"14.00\" text-anchor=\"middle\" x=\"255.0319\" y=\"-438.5284\">True</text>\n</g>\n<!-- 2 -->\n<g class=\"node\" id=\"node3\">\n<title>2</title>\n<polygon fill=\"#ffffff\" points=\"466,-425 315,-425 315,-342 466,-342 466,-425\" stroke=\"#000000\"/>\n<text fill=\"#000000\" font-family=\"Times,serif\" font-size=\"14.00\" text-anchor=\"middle\" x=\"390.5\" y=\"-409.8\">PetalWidthCm &lt;= 1.75</text>\n<text fill=\"#000000\" font-family=\"Times,serif\" font-size=\"14.00\" text-anchor=\"middle\" x=\"390.5\" y=\"-394.8\">gini = 0.5</text>\n<text fill=\"#000000\" font-family=\"Times,serif\" font-size=\"14.00\" text-anchor=\"middle\" x=\"390.5\" y=\"-379.8\">samples = 100</text>\n<text fill=\"#000000\" font-family=\"Times,serif\" font-size=\"14.00\" text-anchor=\"middle\" x=\"390.5\" y=\"-364.8\">value = [0, 50, 50]</text>\n<text fill=\"#000000\" font-family=\"Times,serif\" font-size=\"14.00\" text-anchor=\"middle\" x=\"390.5\" y=\"-349.8\">class = Iris-versicolor</text>\n</g>\n<!-- 0&#45;&gt;2 -->\n<g class=\"edge\" id=\"edge2\">\n<title>0-&gt;2</title>\n<path d=\"M341.0811,-460.8796C346.6605,-452.1434 352.6019,-442.8404 358.3595,-433.8253\" fill=\"none\" stroke=\"#000000\"/>\n<polygon fill=\"#000000\" points=\"361.3726,-435.6098 363.8054,-425.2981 355.4731,-431.8421 361.3726,-435.6098\" stroke=\"#000000\"/>\n<text fill=\"#000000\" font-family=\"Times,serif\" font-size=\"14.00\" text-anchor=\"middle\" x=\"369.1889\" y=\"-446.0116\">False</text>\n</g>\n<!-- 3 -->\n<g class=\"node\" id=\"node4\">\n<title>3</title>\n<polygon fill=\"#4de88e\" points=\"381,-306 224,-306 224,-223 381,-223 381,-306\" stroke=\"#000000\"/>\n<text fill=\"#000000\" font-family=\"Times,serif\" font-size=\"14.00\" text-anchor=\"middle\" x=\"302.5\" y=\"-290.8\">PetalLengthCm &lt;= 4.95</text>\n<text fill=\"#000000\" font-family=\"Times,serif\" font-size=\"14.00\" text-anchor=\"middle\" x=\"302.5\" y=\"-275.8\">gini = 0.168</text>\n<text fill=\"#000000\" font-family=\"Times,serif\" font-size=\"14.00\" text-anchor=\"middle\" x=\"302.5\" y=\"-260.8\">samples = 54</text>\n<text fill=\"#000000\" font-family=\"Times,serif\" font-size=\"14.00\" text-anchor=\"middle\" x=\"302.5\" y=\"-245.8\">value = [0, 49, 5]</text>\n<text fill=\"#000000\" font-family=\"Times,serif\" font-size=\"14.00\" text-anchor=\"middle\" x=\"302.5\" y=\"-230.8\">class = Iris-versicolor</text>\n</g>\n<!-- 2&#45;&gt;3 -->\n<g class=\"edge\" id=\"edge3\">\n<title>2-&gt;3</title>\n<path d=\"M359.7219,-341.8796C353.1949,-333.0534 346.2401,-323.6485 339.5092,-314.5466\" fill=\"none\" stroke=\"#000000\"/>\n<polygon fill=\"#000000\" points=\"342.1695,-312.2574 333.4095,-306.2981 336.5412,-316.4195 342.1695,-312.2574\" stroke=\"#000000\"/>\n</g>\n<!-- 8 -->\n<g class=\"node\" id=\"node9\">\n<title>8</title>\n<polygon fill=\"#843de6\" points=\"556,-306 399,-306 399,-223 556,-223 556,-306\" stroke=\"#000000\"/>\n<text fill=\"#000000\" font-family=\"Times,serif\" font-size=\"14.00\" text-anchor=\"middle\" x=\"477.5\" y=\"-290.8\">PetalLengthCm &lt;= 4.95</text>\n<text fill=\"#000000\" font-family=\"Times,serif\" font-size=\"14.00\" text-anchor=\"middle\" x=\"477.5\" y=\"-275.8\">gini = 0.043</text>\n<text fill=\"#000000\" font-family=\"Times,serif\" font-size=\"14.00\" text-anchor=\"middle\" x=\"477.5\" y=\"-260.8\">samples = 46</text>\n<text fill=\"#000000\" font-family=\"Times,serif\" font-size=\"14.00\" text-anchor=\"middle\" x=\"477.5\" y=\"-245.8\">value = [0, 1, 45]</text>\n<text fill=\"#000000\" font-family=\"Times,serif\" font-size=\"14.00\" text-anchor=\"middle\" x=\"477.5\" y=\"-230.8\">class = Iris-virginica</text>\n</g>\n<!-- 2&#45;&gt;8 -->\n<g class=\"edge\" id=\"edge8\">\n<title>2-&gt;8</title>\n<path d=\"M420.9284,-341.8796C427.3811,-333.0534 434.257,-323.6485 440.9113,-314.5466\" fill=\"none\" stroke=\"#000000\"/>\n<polygon fill=\"#000000\" points=\"443.8653,-316.4364 446.9417,-306.2981 438.2144,-312.3051 443.8653,-316.4364\" stroke=\"#000000\"/>\n</g>\n<!-- 4 -->\n<g class=\"node\" id=\"node5\">\n<title>4</title>\n<polygon fill=\"#3de684\" points=\"226,-187 65,-187 65,-104 226,-104 226,-187\" stroke=\"#000000\"/>\n<text fill=\"#000000\" font-family=\"Times,serif\" font-size=\"14.00\" text-anchor=\"middle\" x=\"145.5\" y=\"-171.8\">SepalLengthCm &lt;= 5.15</text>\n<text fill=\"#000000\" font-family=\"Times,serif\" font-size=\"14.00\" text-anchor=\"middle\" x=\"145.5\" y=\"-156.8\">gini = 0.041</text>\n<text fill=\"#000000\" font-family=\"Times,serif\" font-size=\"14.00\" text-anchor=\"middle\" x=\"145.5\" y=\"-141.8\">samples = 48</text>\n<text fill=\"#000000\" font-family=\"Times,serif\" font-size=\"14.00\" text-anchor=\"middle\" x=\"145.5\" y=\"-126.8\">value = [0, 47, 1]</text>\n<text fill=\"#000000\" font-family=\"Times,serif\" font-size=\"14.00\" text-anchor=\"middle\" x=\"145.5\" y=\"-111.8\">class = Iris-versicolor</text>\n</g>\n<!-- 3&#45;&gt;4 -->\n<g class=\"edge\" id=\"edge4\">\n<title>3-&gt;4</title>\n<path d=\"M247.589,-222.8796C234.9206,-213.2774 221.3485,-202.9903 208.3705,-193.1534\" fill=\"none\" stroke=\"#000000\"/>\n<polygon fill=\"#000000\" points=\"210.4636,-190.3482 200.38,-187.0969 206.2352,-195.9268 210.4636,-190.3482\" stroke=\"#000000\"/>\n</g>\n<!-- 7 -->\n<g class=\"node\" id=\"node8\">\n<title>7</title>\n<polygon fill=\"#c09cf2\" points=\"375,-179.5 244,-179.5 244,-111.5 375,-111.5 375,-179.5\" stroke=\"#000000\"/>\n<text fill=\"#000000\" font-family=\"Times,serif\" font-size=\"14.00\" text-anchor=\"middle\" x=\"309.5\" y=\"-164.3\">gini = 0.444</text>\n<text fill=\"#000000\" font-family=\"Times,serif\" font-size=\"14.00\" text-anchor=\"middle\" x=\"309.5\" y=\"-149.3\">samples = 6</text>\n<text fill=\"#000000\" font-family=\"Times,serif\" font-size=\"14.00\" text-anchor=\"middle\" x=\"309.5\" y=\"-134.3\">value = [0, 2, 4]</text>\n<text fill=\"#000000\" font-family=\"Times,serif\" font-size=\"14.00\" text-anchor=\"middle\" x=\"309.5\" y=\"-119.3\">class = Iris-virginica</text>\n</g>\n<!-- 3&#45;&gt;7 -->\n<g class=\"edge\" id=\"edge7\">\n<title>3-&gt;7</title>\n<path d=\"M304.9483,-222.8796C305.5757,-212.2134 306.2528,-200.7021 306.8881,-189.9015\" fill=\"none\" stroke=\"#000000\"/>\n<polygon fill=\"#000000\" points=\"310.3881,-190.0032 307.4815,-179.8149 303.4002,-189.5921 310.3881,-190.0032\" stroke=\"#000000\"/>\n</g>\n<!-- 5 -->\n<g class=\"node\" id=\"node6\">\n<title>5</title>\n<polygon fill=\"#6aeca0\" points=\"137,-68 0,-68 0,0 137,0 137,-68\" stroke=\"#000000\"/>\n<text fill=\"#000000\" font-family=\"Times,serif\" font-size=\"14.00\" text-anchor=\"middle\" x=\"68.5\" y=\"-52.8\">gini = 0.32</text>\n<text fill=\"#000000\" font-family=\"Times,serif\" font-size=\"14.00\" text-anchor=\"middle\" x=\"68.5\" y=\"-37.8\">samples = 5</text>\n<text fill=\"#000000\" font-family=\"Times,serif\" font-size=\"14.00\" text-anchor=\"middle\" x=\"68.5\" y=\"-22.8\">value = [0, 4, 1]</text>\n<text fill=\"#000000\" font-family=\"Times,serif\" font-size=\"14.00\" text-anchor=\"middle\" x=\"68.5\" y=\"-7.8\">class = Iris-versicolor</text>\n</g>\n<!-- 4&#45;&gt;5 -->\n<g class=\"edge\" id=\"edge5\">\n<title>4-&gt;5</title>\n<path d=\"M116.828,-103.9815C110.6715,-95.0666 104.1557,-85.6313 97.9695,-76.6734\" fill=\"none\" stroke=\"#000000\"/>\n<polygon fill=\"#000000\" points=\"100.7245,-74.5034 92.1619,-68.2637 94.9645,-78.4811 100.7245,-74.5034\" stroke=\"#000000\"/>\n</g>\n<!-- 6 -->\n<g class=\"node\" id=\"node7\">\n<title>6</title>\n<polygon fill=\"#39e581\" points=\"292,-68 155,-68 155,0 292,0 292,-68\" stroke=\"#000000\"/>\n<text fill=\"#000000\" font-family=\"Times,serif\" font-size=\"14.00\" text-anchor=\"middle\" x=\"223.5\" y=\"-52.8\">gini = 0.0</text>\n<text fill=\"#000000\" font-family=\"Times,serif\" font-size=\"14.00\" text-anchor=\"middle\" x=\"223.5\" y=\"-37.8\">samples = 43</text>\n<text fill=\"#000000\" font-family=\"Times,serif\" font-size=\"14.00\" text-anchor=\"middle\" x=\"223.5\" y=\"-22.8\">value = [0, 43, 0]</text>\n<text fill=\"#000000\" font-family=\"Times,serif\" font-size=\"14.00\" text-anchor=\"middle\" x=\"223.5\" y=\"-7.8\">class = Iris-versicolor</text>\n</g>\n<!-- 4&#45;&gt;6 -->\n<g class=\"edge\" id=\"edge6\">\n<title>4-&gt;6</title>\n<path d=\"M174.5443,-103.9815C180.7808,-95.0666 187.3813,-85.6313 193.6478,-76.6734\" fill=\"none\" stroke=\"#000000\"/>\n<polygon fill=\"#000000\" points=\"196.6665,-78.464 199.5308,-68.2637 190.9307,-74.4515 196.6665,-78.464\" stroke=\"#000000\"/>\n</g>\n<!-- 9 -->\n<g class=\"node\" id=\"node10\">\n<title>9</title>\n<polygon fill=\"#9a61ea\" points=\"537,-179.5 406,-179.5 406,-111.5 537,-111.5 537,-179.5\" stroke=\"#000000\"/>\n<text fill=\"#000000\" font-family=\"Times,serif\" font-size=\"14.00\" text-anchor=\"middle\" x=\"471.5\" y=\"-164.3\">gini = 0.278</text>\n<text fill=\"#000000\" font-family=\"Times,serif\" font-size=\"14.00\" text-anchor=\"middle\" x=\"471.5\" y=\"-149.3\">samples = 6</text>\n<text fill=\"#000000\" font-family=\"Times,serif\" font-size=\"14.00\" text-anchor=\"middle\" x=\"471.5\" y=\"-134.3\">value = [0, 1, 5]</text>\n<text fill=\"#000000\" font-family=\"Times,serif\" font-size=\"14.00\" text-anchor=\"middle\" x=\"471.5\" y=\"-119.3\">class = Iris-virginica</text>\n</g>\n<!-- 8&#45;&gt;9 -->\n<g class=\"edge\" id=\"edge9\">\n<title>8-&gt;9</title>\n<path d=\"M475.4015,-222.8796C474.8637,-212.2134 474.2833,-200.7021 473.7387,-189.9015\" fill=\"none\" stroke=\"#000000\"/>\n<polygon fill=\"#000000\" points=\"477.2294,-189.626 473.2302,-179.8149 470.2383,-189.9785 477.2294,-189.626\" stroke=\"#000000\"/>\n</g>\n<!-- 10 -->\n<g class=\"node\" id=\"node11\">\n<title>10</title>\n<polygon fill=\"#8139e5\" points=\"686,-179.5 555,-179.5 555,-111.5 686,-111.5 686,-179.5\" stroke=\"#000000\"/>\n<text fill=\"#000000\" font-family=\"Times,serif\" font-size=\"14.00\" text-anchor=\"middle\" x=\"620.5\" y=\"-164.3\">gini = 0.0</text>\n<text fill=\"#000000\" font-family=\"Times,serif\" font-size=\"14.00\" text-anchor=\"middle\" x=\"620.5\" y=\"-149.3\">samples = 40</text>\n<text fill=\"#000000\" font-family=\"Times,serif\" font-size=\"14.00\" text-anchor=\"middle\" x=\"620.5\" y=\"-134.3\">value = [0, 0, 40]</text>\n<text fill=\"#000000\" font-family=\"Times,serif\" font-size=\"14.00\" text-anchor=\"middle\" x=\"620.5\" y=\"-119.3\">class = Iris-virginica</text>\n</g>\n<!-- 8&#45;&gt;10 -->\n<g class=\"edge\" id=\"edge10\">\n<title>8-&gt;10</title>\n<path d=\"M527.5145,-222.8796C541.7853,-211.0038 557.3151,-198.0804 571.5233,-186.2568\" fill=\"none\" stroke=\"#000000\"/>\n<polygon fill=\"#000000\" points=\"573.8166,-188.9019 579.2644,-179.8149 569.339,-183.5212 573.8166,-188.9019\" stroke=\"#000000\"/>\n</g>\n</g>\n</svg>"
              }
            ],
            "_view_module": "@jupyter-widgets/output",
            "_model_module_version": "1.0.0",
            "_view_count": null,
            "_view_module_version": "1.0.0",
            "layout": "IPY_MODEL_a64a623b78ac471d977d3ca757060b47",
            "_model_module": "@jupyter-widgets/output"
          }
        },
        "f8cce53ced694162bd040bc5070cdc60": {
          "model_module": "@jupyter-widgets/controls",
          "model_name": "DescriptionStyleModel",
          "state": {
            "_view_name": "StyleView",
            "_model_name": "DescriptionStyleModel",
            "description_width": "",
            "_view_module": "@jupyter-widgets/base",
            "_model_module_version": "1.5.0",
            "_view_count": null,
            "_view_module_version": "1.2.0",
            "_model_module": "@jupyter-widgets/controls"
          }
        },
        "d43a35c68ce5420dbe11ae57358d613e": {
          "model_module": "@jupyter-widgets/base",
          "model_name": "LayoutModel",
          "state": {
            "_view_name": "LayoutView",
            "grid_template_rows": null,
            "right": null,
            "justify_content": null,
            "_view_module": "@jupyter-widgets/base",
            "overflow": null,
            "_model_module_version": "1.2.0",
            "_view_count": null,
            "flex_flow": null,
            "width": null,
            "min_width": null,
            "border": null,
            "align_items": null,
            "bottom": null,
            "_model_module": "@jupyter-widgets/base",
            "top": null,
            "grid_column": null,
            "overflow_y": null,
            "overflow_x": null,
            "grid_auto_flow": null,
            "grid_area": null,
            "grid_template_columns": null,
            "flex": null,
            "_model_name": "LayoutModel",
            "justify_items": null,
            "grid_row": null,
            "max_height": null,
            "align_content": null,
            "visibility": null,
            "align_self": null,
            "height": null,
            "min_height": null,
            "padding": null,
            "grid_auto_rows": null,
            "grid_gap": null,
            "max_width": null,
            "order": null,
            "_view_module_version": "1.2.0",
            "grid_template_areas": null,
            "object_position": null,
            "object_fit": null,
            "grid_auto_columns": null,
            "margin": null,
            "display": null,
            "left": null
          }
        },
        "19cd660417674eea883cea4ff504ec8f": {
          "model_module": "@jupyter-widgets/controls",
          "model_name": "DescriptionStyleModel",
          "state": {
            "_view_name": "StyleView",
            "_model_name": "DescriptionStyleModel",
            "description_width": "",
            "_view_module": "@jupyter-widgets/base",
            "_model_module_version": "1.5.0",
            "_view_count": null,
            "_view_module_version": "1.2.0",
            "_model_module": "@jupyter-widgets/controls"
          }
        },
        "e0967c1f8f0a4c4f849b35e69da295b7": {
          "model_module": "@jupyter-widgets/base",
          "model_name": "LayoutModel",
          "state": {
            "_view_name": "LayoutView",
            "grid_template_rows": null,
            "right": null,
            "justify_content": null,
            "_view_module": "@jupyter-widgets/base",
            "overflow": null,
            "_model_module_version": "1.2.0",
            "_view_count": null,
            "flex_flow": null,
            "width": null,
            "min_width": null,
            "border": null,
            "align_items": null,
            "bottom": null,
            "_model_module": "@jupyter-widgets/base",
            "top": null,
            "grid_column": null,
            "overflow_y": null,
            "overflow_x": null,
            "grid_auto_flow": null,
            "grid_area": null,
            "grid_template_columns": null,
            "flex": null,
            "_model_name": "LayoutModel",
            "justify_items": null,
            "grid_row": null,
            "max_height": null,
            "align_content": null,
            "visibility": null,
            "align_self": null,
            "height": null,
            "min_height": null,
            "padding": null,
            "grid_auto_rows": null,
            "grid_gap": null,
            "max_width": null,
            "order": null,
            "_view_module_version": "1.2.0",
            "grid_template_areas": null,
            "object_position": null,
            "object_fit": null,
            "grid_auto_columns": null,
            "margin": null,
            "display": null,
            "left": null
          }
        },
        "4c06633ae40b439ea6eb75e772200f4d": {
          "model_module": "@jupyter-widgets/controls",
          "model_name": "DescriptionStyleModel",
          "state": {
            "_view_name": "StyleView",
            "_model_name": "DescriptionStyleModel",
            "description_width": "",
            "_view_module": "@jupyter-widgets/base",
            "_model_module_version": "1.5.0",
            "_view_count": null,
            "_view_module_version": "1.2.0",
            "_model_module": "@jupyter-widgets/controls"
          }
        },
        "525e469ca2db4eb584c6e1245d4b9b0e": {
          "model_module": "@jupyter-widgets/base",
          "model_name": "LayoutModel",
          "state": {
            "_view_name": "LayoutView",
            "grid_template_rows": null,
            "right": null,
            "justify_content": null,
            "_view_module": "@jupyter-widgets/base",
            "overflow": null,
            "_model_module_version": "1.2.0",
            "_view_count": null,
            "flex_flow": null,
            "width": null,
            "min_width": null,
            "border": null,
            "align_items": null,
            "bottom": null,
            "_model_module": "@jupyter-widgets/base",
            "top": null,
            "grid_column": null,
            "overflow_y": null,
            "overflow_x": null,
            "grid_auto_flow": null,
            "grid_area": null,
            "grid_template_columns": null,
            "flex": null,
            "_model_name": "LayoutModel",
            "justify_items": null,
            "grid_row": null,
            "max_height": null,
            "align_content": null,
            "visibility": null,
            "align_self": null,
            "height": null,
            "min_height": null,
            "padding": null,
            "grid_auto_rows": null,
            "grid_gap": null,
            "max_width": null,
            "order": null,
            "_view_module_version": "1.2.0",
            "grid_template_areas": null,
            "object_position": null,
            "object_fit": null,
            "grid_auto_columns": null,
            "margin": null,
            "display": null,
            "left": null
          }
        },
        "038a40d7807946de8007a0b391ac8f14": {
          "model_module": "@jupyter-widgets/controls",
          "model_name": "SliderStyleModel",
          "state": {
            "_view_name": "StyleView",
            "handle_color": null,
            "_model_name": "SliderStyleModel",
            "description_width": "",
            "_view_module": "@jupyter-widgets/base",
            "_model_module_version": "1.5.0",
            "_view_count": null,
            "_view_module_version": "1.2.0",
            "_model_module": "@jupyter-widgets/controls"
          }
        },
        "ae68191d9a754493a39f960bc6b65372": {
          "model_module": "@jupyter-widgets/base",
          "model_name": "LayoutModel",
          "state": {
            "_view_name": "LayoutView",
            "grid_template_rows": null,
            "right": null,
            "justify_content": null,
            "_view_module": "@jupyter-widgets/base",
            "overflow": null,
            "_model_module_version": "1.2.0",
            "_view_count": null,
            "flex_flow": null,
            "width": null,
            "min_width": null,
            "border": null,
            "align_items": null,
            "bottom": null,
            "_model_module": "@jupyter-widgets/base",
            "top": null,
            "grid_column": null,
            "overflow_y": null,
            "overflow_x": null,
            "grid_auto_flow": null,
            "grid_area": null,
            "grid_template_columns": null,
            "flex": null,
            "_model_name": "LayoutModel",
            "justify_items": null,
            "grid_row": null,
            "max_height": null,
            "align_content": null,
            "visibility": null,
            "align_self": null,
            "height": null,
            "min_height": null,
            "padding": null,
            "grid_auto_rows": null,
            "grid_gap": null,
            "max_width": null,
            "order": null,
            "_view_module_version": "1.2.0",
            "grid_template_areas": null,
            "object_position": null,
            "object_fit": null,
            "grid_auto_columns": null,
            "margin": null,
            "display": null,
            "left": null
          }
        },
        "b24cd512aba94b9693c5b2a4aee013ba": {
          "model_module": "@jupyter-widgets/controls",
          "model_name": "SliderStyleModel",
          "state": {
            "_view_name": "StyleView",
            "handle_color": null,
            "_model_name": "SliderStyleModel",
            "description_width": "",
            "_view_module": "@jupyter-widgets/base",
            "_model_module_version": "1.5.0",
            "_view_count": null,
            "_view_module_version": "1.2.0",
            "_model_module": "@jupyter-widgets/controls"
          }
        },
        "de56fba1832447589ca9c73bf6624e72": {
          "model_module": "@jupyter-widgets/base",
          "model_name": "LayoutModel",
          "state": {
            "_view_name": "LayoutView",
            "grid_template_rows": null,
            "right": null,
            "justify_content": null,
            "_view_module": "@jupyter-widgets/base",
            "overflow": null,
            "_model_module_version": "1.2.0",
            "_view_count": null,
            "flex_flow": null,
            "width": null,
            "min_width": null,
            "border": null,
            "align_items": null,
            "bottom": null,
            "_model_module": "@jupyter-widgets/base",
            "top": null,
            "grid_column": null,
            "overflow_y": null,
            "overflow_x": null,
            "grid_auto_flow": null,
            "grid_area": null,
            "grid_template_columns": null,
            "flex": null,
            "_model_name": "LayoutModel",
            "justify_items": null,
            "grid_row": null,
            "max_height": null,
            "align_content": null,
            "visibility": null,
            "align_self": null,
            "height": null,
            "min_height": null,
            "padding": null,
            "grid_auto_rows": null,
            "grid_gap": null,
            "max_width": null,
            "order": null,
            "_view_module_version": "1.2.0",
            "grid_template_areas": null,
            "object_position": null,
            "object_fit": null,
            "grid_auto_columns": null,
            "margin": null,
            "display": null,
            "left": null
          }
        },
        "a64a623b78ac471d977d3ca757060b47": {
          "model_module": "@jupyter-widgets/base",
          "model_name": "LayoutModel",
          "state": {
            "_view_name": "LayoutView",
            "grid_template_rows": null,
            "right": null,
            "justify_content": null,
            "_view_module": "@jupyter-widgets/base",
            "overflow": null,
            "_model_module_version": "1.2.0",
            "_view_count": null,
            "flex_flow": null,
            "width": null,
            "min_width": null,
            "border": null,
            "align_items": null,
            "bottom": null,
            "_model_module": "@jupyter-widgets/base",
            "top": null,
            "grid_column": null,
            "overflow_y": null,
            "overflow_x": null,
            "grid_auto_flow": null,
            "grid_area": null,
            "grid_template_columns": null,
            "flex": null,
            "_model_name": "LayoutModel",
            "justify_items": null,
            "grid_row": null,
            "max_height": null,
            "align_content": null,
            "visibility": null,
            "align_self": null,
            "height": null,
            "min_height": null,
            "padding": null,
            "grid_auto_rows": null,
            "grid_gap": null,
            "max_width": null,
            "order": null,
            "_view_module_version": "1.2.0",
            "grid_template_areas": null,
            "object_position": null,
            "object_fit": null,
            "grid_auto_columns": null,
            "margin": null,
            "display": null,
            "left": null
          }
        }
      }
    }
  },
  "cells": [
    {
      "cell_type": "markdown",
      "metadata": {
        "id": "view-in-github",
        "colab_type": "text"
      },
      "source": [
        "<a href=\"https://colab.research.google.com/github/Beatriz-Paes/Projeto-P-D-UEA-IA/blob/main/Projeto_P%26D_UEA_IA.ipynb\" target=\"_parent\"><img src=\"https://colab.research.google.com/assets/colab-badge.svg\" alt=\"Open In Colab\"/></a>"
      ]
    },
    {
      "cell_type": "code",
      "metadata": {
        "id": "uwysQFnXkEp6"
      },
      "source": [
        "import numpy as np\n",
        "import pandas as pd\n",
        "\n",
        "import matplotlib.pyplot as plt\n",
        "import pydot\n",
        "import graphviz\n",
        "from mlxtend.plotting import plot_decision_regions\n",
        "\n",
        "from sklearn.model_selection import train_test_split\n",
        "from sklearn.tree import DecisionTreeClassifier, export_graphviz\n",
        "from sklearn import metrics\n",
        "\n",
        "from ipywidgets import interactive\n",
        "from IPython.display import SVG, display\n",
        "from graphviz import Source"
      ],
      "execution_count": null,
      "outputs": []
    },
    {
      "cell_type": "code",
      "metadata": {
        "id": "Vr_cqGmlkUMX",
        "colab": {
          "base_uri": "https://localhost:8080/",
          "height": 191
        },
        "outputId": "be3debfa-b277-4654-e5f7-f900a19f1b73"
      },
      "source": [
        "iris = pd.read_csv(\"iris.csv\")\n",
        "\n",
        "iris.head()"
      ],
      "execution_count": null,
      "outputs": [
        {
          "output_type": "execute_result",
          "data": {
            "text/html": [
              "<div>\n",
              "<style scoped>\n",
              "    .dataframe tbody tr th:only-of-type {\n",
              "        vertical-align: middle;\n",
              "    }\n",
              "\n",
              "    .dataframe tbody tr th {\n",
              "        vertical-align: top;\n",
              "    }\n",
              "\n",
              "    .dataframe thead th {\n",
              "        text-align: right;\n",
              "    }\n",
              "</style>\n",
              "<table border=\"1\" class=\"dataframe\">\n",
              "  <thead>\n",
              "    <tr style=\"text-align: right;\">\n",
              "      <th></th>\n",
              "      <th>SepalLengthCm</th>\n",
              "      <th>SepalWidthCm</th>\n",
              "      <th>PetalLengthCm</th>\n",
              "      <th>PetalWidthCm</th>\n",
              "      <th>Class</th>\n",
              "    </tr>\n",
              "  </thead>\n",
              "  <tbody>\n",
              "    <tr>\n",
              "      <th>0</th>\n",
              "      <td>5.1</td>\n",
              "      <td>3.5</td>\n",
              "      <td>1.4</td>\n",
              "      <td>0.2</td>\n",
              "      <td>Iris-setosa</td>\n",
              "    </tr>\n",
              "    <tr>\n",
              "      <th>1</th>\n",
              "      <td>4.9</td>\n",
              "      <td>3.0</td>\n",
              "      <td>1.4</td>\n",
              "      <td>0.2</td>\n",
              "      <td>Iris-setosa</td>\n",
              "    </tr>\n",
              "    <tr>\n",
              "      <th>2</th>\n",
              "      <td>4.7</td>\n",
              "      <td>3.2</td>\n",
              "      <td>1.3</td>\n",
              "      <td>0.2</td>\n",
              "      <td>Iris-setosa</td>\n",
              "    </tr>\n",
              "    <tr>\n",
              "      <th>3</th>\n",
              "      <td>4.6</td>\n",
              "      <td>3.1</td>\n",
              "      <td>1.5</td>\n",
              "      <td>0.2</td>\n",
              "      <td>Iris-setosa</td>\n",
              "    </tr>\n",
              "    <tr>\n",
              "      <th>4</th>\n",
              "      <td>5.0</td>\n",
              "      <td>3.6</td>\n",
              "      <td>1.4</td>\n",
              "      <td>0.2</td>\n",
              "      <td>Iris-setosa</td>\n",
              "    </tr>\n",
              "  </tbody>\n",
              "</table>\n",
              "</div>"
            ],
            "text/plain": [
              "   SepalLengthCm  SepalWidthCm  PetalLengthCm  PetalWidthCm        Class\n",
              "0            5.1           3.5            1.4           0.2  Iris-setosa\n",
              "1            4.9           3.0            1.4           0.2  Iris-setosa\n",
              "2            4.7           3.2            1.3           0.2  Iris-setosa\n",
              "3            4.6           3.1            1.5           0.2  Iris-setosa\n",
              "4            5.0           3.6            1.4           0.2  Iris-setosa"
            ]
          },
          "metadata": {
            "tags": []
          },
          "execution_count": 93
        }
      ]
    },
    {
      "cell_type": "code",
      "metadata": {
        "id": "-b49CmcFklQu",
        "colab": {
          "base_uri": "https://localhost:8080/"
        },
        "outputId": "476c3e44-bda5-42ec-e64e-1e6ae567d3b4"
      },
      "source": [
        "print(\"Informações do Dataset:\")\n",
        "iris.info()"
      ],
      "execution_count": null,
      "outputs": [
        {
          "output_type": "stream",
          "text": [
            "Informações do Dataset:\n",
            "<class 'pandas.core.frame.DataFrame'>\n",
            "RangeIndex: 150 entries, 0 to 149\n",
            "Data columns (total 5 columns):\n",
            " #   Column         Non-Null Count  Dtype  \n",
            "---  ------         --------------  -----  \n",
            " 0   SepalLengthCm  150 non-null    float64\n",
            " 1   SepalWidthCm   150 non-null    float64\n",
            " 2   PetalLengthCm  150 non-null    float64\n",
            " 3   PetalWidthCm   150 non-null    float64\n",
            " 4   Class          150 non-null    object \n",
            "dtypes: float64(4), object(1)\n",
            "memory usage: 6.0+ KB\n"
          ],
          "name": "stdout"
        }
      ]
    },
    {
      "cell_type": "code",
      "metadata": {
        "colab": {
          "base_uri": "https://localhost:8080/",
          "height": 293
        },
        "id": "txYwVvenqdUc",
        "outputId": "ce1d4890-9961-467e-f251-e15099ac1aba"
      },
      "source": [
        "print(\"Descrição do Dataset\")\n",
        "iris.describe()"
      ],
      "execution_count": null,
      "outputs": [
        {
          "output_type": "stream",
          "text": [
            "Descrição do Dataset\n"
          ],
          "name": "stdout"
        },
        {
          "output_type": "execute_result",
          "data": {
            "text/html": [
              "<div>\n",
              "<style scoped>\n",
              "    .dataframe tbody tr th:only-of-type {\n",
              "        vertical-align: middle;\n",
              "    }\n",
              "\n",
              "    .dataframe tbody tr th {\n",
              "        vertical-align: top;\n",
              "    }\n",
              "\n",
              "    .dataframe thead th {\n",
              "        text-align: right;\n",
              "    }\n",
              "</style>\n",
              "<table border=\"1\" class=\"dataframe\">\n",
              "  <thead>\n",
              "    <tr style=\"text-align: right;\">\n",
              "      <th></th>\n",
              "      <th>SepalLengthCm</th>\n",
              "      <th>SepalWidthCm</th>\n",
              "      <th>PetalLengthCm</th>\n",
              "      <th>PetalWidthCm</th>\n",
              "    </tr>\n",
              "  </thead>\n",
              "  <tbody>\n",
              "    <tr>\n",
              "      <th>count</th>\n",
              "      <td>150.000000</td>\n",
              "      <td>150.000000</td>\n",
              "      <td>150.000000</td>\n",
              "      <td>150.000000</td>\n",
              "    </tr>\n",
              "    <tr>\n",
              "      <th>mean</th>\n",
              "      <td>5.843333</td>\n",
              "      <td>3.054000</td>\n",
              "      <td>3.758667</td>\n",
              "      <td>1.198667</td>\n",
              "    </tr>\n",
              "    <tr>\n",
              "      <th>std</th>\n",
              "      <td>0.828066</td>\n",
              "      <td>0.433594</td>\n",
              "      <td>1.764420</td>\n",
              "      <td>0.763161</td>\n",
              "    </tr>\n",
              "    <tr>\n",
              "      <th>min</th>\n",
              "      <td>4.300000</td>\n",
              "      <td>2.000000</td>\n",
              "      <td>1.000000</td>\n",
              "      <td>0.100000</td>\n",
              "    </tr>\n",
              "    <tr>\n",
              "      <th>25%</th>\n",
              "      <td>5.100000</td>\n",
              "      <td>2.800000</td>\n",
              "      <td>1.600000</td>\n",
              "      <td>0.300000</td>\n",
              "    </tr>\n",
              "    <tr>\n",
              "      <th>50%</th>\n",
              "      <td>5.800000</td>\n",
              "      <td>3.000000</td>\n",
              "      <td>4.350000</td>\n",
              "      <td>1.300000</td>\n",
              "    </tr>\n",
              "    <tr>\n",
              "      <th>75%</th>\n",
              "      <td>6.400000</td>\n",
              "      <td>3.300000</td>\n",
              "      <td>5.100000</td>\n",
              "      <td>1.800000</td>\n",
              "    </tr>\n",
              "    <tr>\n",
              "      <th>max</th>\n",
              "      <td>7.900000</td>\n",
              "      <td>4.400000</td>\n",
              "      <td>6.900000</td>\n",
              "      <td>2.500000</td>\n",
              "    </tr>\n",
              "  </tbody>\n",
              "</table>\n",
              "</div>"
            ],
            "text/plain": [
              "       SepalLengthCm  SepalWidthCm  PetalLengthCm  PetalWidthCm\n",
              "count     150.000000    150.000000     150.000000    150.000000\n",
              "mean        5.843333      3.054000       3.758667      1.198667\n",
              "std         0.828066      0.433594       1.764420      0.763161\n",
              "min         4.300000      2.000000       1.000000      0.100000\n",
              "25%         5.100000      2.800000       1.600000      0.300000\n",
              "50%         5.800000      3.000000       4.350000      1.300000\n",
              "75%         6.400000      3.300000       5.100000      1.800000\n",
              "max         7.900000      4.400000       6.900000      2.500000"
            ]
          },
          "metadata": {
            "tags": []
          },
          "execution_count": 95
        }
      ]
    },
    {
      "cell_type": "code",
      "metadata": {
        "colab": {
          "base_uri": "https://localhost:8080/"
        },
        "id": "70XTgrTDqwiI",
        "outputId": "f5bfaf6d-2fe1-4749-8b34-0874e8223e88"
      },
      "source": [
        "print(\"Distribuição das espécies de Iris\")\n",
        "iris.groupby('Class').size()"
      ],
      "execution_count": null,
      "outputs": [
        {
          "output_type": "stream",
          "text": [
            "Distribuição das espécies de Iris\n"
          ],
          "name": "stdout"
        },
        {
          "output_type": "execute_result",
          "data": {
            "text/plain": [
              "Class\n",
              "Iris-setosa        50\n",
              "Iris-versicolor    50\n",
              "Iris-virginica     50\n",
              "dtype: int64"
            ]
          },
          "metadata": {
            "tags": []
          },
          "execution_count": 96
        }
      ]
    },
    {
      "cell_type": "code",
      "metadata": {
        "colab": {
          "base_uri": "https://localhost:8080/",
          "height": 295
        },
        "id": "EgT1buKOrHpa",
        "outputId": "fa025d56-bdff-454c-de4c-7bb78198a400"
      },
      "source": [
        "fig = iris[iris.Class == 'Iris-setosa'].plot(kind='scatter', x='SepalLengthCm', y='SepalWidthCm', color=\"blue\", label=\"Setosa\")\n",
        "iris[iris.Class == 'Iris-versicolor'].plot(kind='scatter', x='SepalLengthCm', y='SepalWidthCm', color='green', label='Versicolor', ax=fig)\n",
        "iris[iris.Class == 'Iris-virginica'].plot(kind='scatter', x='SepalLengthCm', y='SepalWidthCm', color='red', label='Virginica', ax=fig)\n",
        "\n",
        "fig.set_xlabel('Sepal - Length')\n",
        "fig.set_ylabel('Sepal - Width')\n",
        "fig.set_title('Sepal - Length vs Width')\n",
        "\n",
        "plt.show()"
      ],
      "execution_count": null,
      "outputs": [
        {
          "output_type": "display_data",
          "data": {
            "image/png": "[encoded data removed]",
            "text/plain": [
              "<Figure size 432x288 with 1 Axes>"
            ]
          },
          "metadata": {
            "tags": [],
            "needs_background": "light"
          }
        }
      ]
    },
    {
      "cell_type": "code",
      "metadata": {
        "colab": {
          "base_uri": "https://localhost:8080/",
          "height": 295
        },
        "id": "I595v_yGIpcJ",
        "outputId": "19ce685f-c250-474a-adab-5167c27eacbe"
      },
      "source": [
        "fig = iris[iris.Class == 'Iris-setosa'].plot(kind='scatter', x='PetalLengthCm', y='PetalWidthCm', color=\"blue\", label=\"Setosa\")\n",
        "iris[iris.Class == 'Iris-versicolor'].plot(kind='scatter', x='PetalLengthCm', y='PetalWidthCm', color='green', label='Versicolor', ax=fig)\n",
        "iris[iris.Class == 'Iris-virginica'].plot(kind='scatter', x='PetalLengthCm', y='PetalWidthCm', color='red', label='Virginica', ax=fig)\n",
        "\n",
        "fig.set_xlabel('Petal - Length')\n",
        "fig.set_ylabel('Petal - Width')\n",
        "fig.set_title('Petal - Length vs Width')\n",
        "\n",
        "plt.show()"
      ],
      "execution_count": null,
      "outputs": [
        {
          "output_type": "display_data",
          "data": {
            "image/png": "[encoded data removed]",
            "text/plain": [
              "<Figure size 432x288 with 1 Axes>"
            ]
          },
          "metadata": {
            "tags": [],
            "needs_background": "light"
          }
        }
      ]
    },
    {
      "cell_type": "code",
      "metadata": {
        "id": "gpJX7NkBUAfo"
      },
      "source": [
        "x = np.array(iris.drop(['Class'], 1))\n",
        "y = np.array(iris['Class'])"
      ],
      "execution_count": null,
      "outputs": []
    },
    {
      "cell_type": "code",
      "metadata": {
        "colab": {
          "base_uri": "https://localhost:8080/"
        },
        "id": "_nJHp2M2Uv3b",
        "outputId": "e0f249ef-b7cc-490e-ab09-f80e6398dadb"
      },
      "source": [
        "x_train, x_test, y_train, y_test = train_test_split(x, y, test_size=0.2)\n",
        "print(f'São {x_train.shape[0]} dados para treinamento e {y_test.shape[0]} dados para teste.')"
      ],
      "execution_count": null,
      "outputs": [
        {
          "output_type": "stream",
          "text": [
            "São 120 dados para treinamento e 30 dados para teste.\n"
          ],
          "name": "stdout"
        }
      ]
    },
    {
      "cell_type": "code",
      "metadata": {
        "colab": {
          "base_uri": "https://localhost:8080/"
        },
        "id": "a5HjzzecayRD",
        "outputId": "61be0497-0ff4-430c-d6d8-72801ece5f3a"
      },
      "source": [
        "algoritmo = DecisionTreeClassifier()\n",
        "algoritmo = algoritmo.fit(x_train, y_train)\n",
        "y_pred = algoritmo.predict(x_test)\n",
        "print(f'Precisão do modelo: {algoritmo.score(x_train, y_train) * 100}')"
      ],
      "execution_count": null,
      "outputs": [
        {
          "output_type": "stream",
          "text": [
            "Precisão do modelo: 100.0\n"
          ],
          "name": "stdout"
        }
      ]
    },
    {
      "cell_type": "code",
      "metadata": {
        "colab": {
          "base_uri": "https://localhost:8080/"
        },
        "id": "6xcnTm-JKHtg",
        "outputId": "28eac4cf-d0e7-4c9b-fae3-a1f4c7f3e155"
      },
      "source": [
        "algoritmo.feature_importances_"
      ],
      "execution_count": null,
      "outputs": [
        {
          "output_type": "execute_result",
          "data": {
            "text/plain": [
              "array([0.        , 0.02952996, 0.4497135 , 0.52075654])"
            ]
          },
          "metadata": {
            "tags": []
          },
          "execution_count": 100
        }
      ]
    },
    {
      "cell_type": "code",
      "metadata": {
        "colab": {
          "base_uri": "https://localhost:8080/"
        },
        "id": "oII1im2iKVZ8",
        "outputId": "f6e29e49-12c4-479c-b861-537b3872bd92"
      },
      "source": [
        "for feature, importance in zip(iris.columns, algoritmo.feature_importances_):\n",
        "  print(f'{feature}: {importance}')"
      ],
      "execution_count": null,
      "outputs": [
        {
          "output_type": "stream",
          "text": [
            "SepalLengthCm: 0.0\n",
            "SepalWidthCm: 0.029529961599142673\n",
            "PetalLengthCm: 0.44971349951554157\n",
            "PetalWidthCm: 0.5207565388853158\n"
          ],
          "name": "stdout"
        }
      ]
    },
    {
      "cell_type": "code",
      "metadata": {
        "colab": {
          "base_uri": "https://localhost:8080/"
        },
        "id": "l_CV54D2sITE",
        "outputId": "8799ae1a-f035-49d9-b873-1c241d227b14"
      },
      "source": [
        "y_pred"
      ],
      "execution_count": null,
      "outputs": [
        {
          "output_type": "execute_result",
          "data": {
            "text/plain": [
              "array(['Iris-setosa', 'Iris-versicolor', 'Iris-setosa', 'Iris-virginica',\n",
              "       'Iris-setosa', 'Iris-versicolor', 'Iris-virginica', 'Iris-setosa',\n",
              "       'Iris-virginica', 'Iris-versicolor', 'Iris-versicolor',\n",
              "       'Iris-versicolor', 'Iris-virginica', 'Iris-virginica',\n",
              "       'Iris-virginica', 'Iris-versicolor', 'Iris-versicolor',\n",
              "       'Iris-setosa', 'Iris-setosa', 'Iris-virginica', 'Iris-virginica',\n",
              "       'Iris-virginica', 'Iris-virginica', 'Iris-setosa', 'Iris-setosa',\n",
              "       'Iris-versicolor', 'Iris-versicolor', 'Iris-versicolor',\n",
              "       'Iris-setosa', 'Iris-virginica'], dtype=object)"
            ]
          },
          "metadata": {
            "tags": []
          },
          "execution_count": 82
        }
      ]
    },
    {
      "cell_type": "code",
      "metadata": {
        "colab": {
          "base_uri": "https://localhost:8080/"
        },
        "id": "8xikRmEBsKUf",
        "outputId": "45f962c2-c78e-43f2-aac9-e36600135eeb"
      },
      "source": [
        "print(metrics.classification_report(y_test, y_pred))"
      ],
      "execution_count": null,
      "outputs": [
        {
          "output_type": "stream",
          "text": [
            "                 precision    recall  f1-score   support\n",
            "\n",
            "    Iris-setosa       1.00      1.00      1.00         9\n",
            "Iris-versicolor       0.90      1.00      0.95         9\n",
            " Iris-virginica       1.00      0.92      0.96        12\n",
            "\n",
            "       accuracy                           0.97        30\n",
            "      macro avg       0.97      0.97      0.97        30\n",
            "   weighted avg       0.97      0.97      0.97        30\n",
            "\n"
          ],
          "name": "stdout"
        }
      ]
    },
    {
      "cell_type": "code",
      "metadata": {
        "colab": {
          "base_uri": "https://localhost:8080/",
          "height": 856
        },
        "id": "_IXm5N8etOxK",
        "outputId": "33906db8-bdc8-4545-e3b2-4e0eebaaef18"
      },
      "source": [
        "dot_data = export_graphviz(algoritmo, out_file=None, feature_names=iris.drop(\n",
        "    'Class',axis=1).columns,\n",
        "    class_names=['Iris-setosa', 'Iris-versicolor', 'Iris-virginica'],\n",
        "    filled=True, rounded=True, proportion=True, node_ids=True, rotate=False,\n",
        "    label='all', special_characters=True)\n",
        "\n",
        "graph = graphviz.Source(dot_data)\n",
        "graph"
      ],
      "execution_count": null,
      "outputs": [
        {
          "output_type": "execute_result",
          "data": {
            "text/plain": [
              "<graphviz.files.Source at 0x7f170f004ef0>"
            ],
            "image/svg+xml": "<?xml version=\"1.0\" encoding=\"UTF-8\" standalone=\"no\"?>\n<!DOCTYPE svg PUBLIC \"-//W3C//DTD SVG 1.1//EN\"\n \"http://www.w3.org/Graphics/SVG/1.1/DTD/svg11.dtd\">\n<!-- Generated by graphviz version 2.40.1 (20161225.0304)\n -->\n<!-- Title: Tree Pages: 1 -->\n<svg width=\"1010pt\" height=\"627pt\"\n viewBox=\"0.00 0.00 1009.50 627.00\" xmlns=\"http://www.w3.org/2000/svg\" xmlns:xlink=\"http://www.w3.org/1999/xlink\">\n<g id=\"graph0\" class=\"graph\" transform=\"scale(1 1) rotate(0) translate(4 623)\">\n<title>Tree</title>\n<polygon fill=\"#ffffff\" stroke=\"transparent\" points=\"-4,4 -4,-623 1005.5,-623 1005.5,4 -4,4\"/>\n<!-- 0 -->\n<g id=\"node1\" class=\"node\">\n<title>0</title>\n<path fill=\"#ffffff\" stroke=\"#000000\" d=\"M618.5,-619C618.5,-619 442.5,-619 442.5,-619 436.5,-619 430.5,-613 430.5,-607 430.5,-607 430.5,-533 430.5,-533 430.5,-527 436.5,-521 442.5,-521 442.5,-521 618.5,-521 618.5,-521 624.5,-521 630.5,-527 630.5,-533 630.5,-533 630.5,-607 630.5,-607 630.5,-613 624.5,-619 618.5,-619\"/>\n<text text-anchor=\"start\" x=\"503.5\" y=\"-603.8\" font-family=\"Helvetica,sans-Serif\" font-size=\"14.00\" fill=\"#000000\">node #0</text>\n<text text-anchor=\"start\" x=\"466.5\" y=\"-588.8\" font-family=\"Helvetica,sans-Serif\" font-size=\"14.00\" fill=\"#000000\">PetalWidthCm ≤ 0.8</text>\n<text text-anchor=\"start\" x=\"492.5\" y=\"-573.8\" font-family=\"Helvetica,sans-Serif\" font-size=\"14.00\" fill=\"#000000\">gini = 0.666</text>\n<text text-anchor=\"start\" x=\"470\" y=\"-558.8\" font-family=\"Helvetica,sans-Serif\" font-size=\"14.00\" fill=\"#000000\">samples = 100.0%</text>\n<text text-anchor=\"start\" x=\"438.5\" y=\"-543.8\" font-family=\"Helvetica,sans-Serif\" font-size=\"14.00\" fill=\"#000000\">value = [0.342, 0.342, 0.317]</text>\n<text text-anchor=\"start\" x=\"472\" y=\"-528.8\" font-family=\"Helvetica,sans-Serif\" font-size=\"14.00\" fill=\"#000000\">class = Iris&#45;setosa</text>\n</g>\n<!-- 1 -->\n<g id=\"node2\" class=\"node\">\n<title>1</title>\n<path fill=\"#e58139\" stroke=\"#000000\" d=\"M501,-477.5C501,-477.5 374,-477.5 374,-477.5 368,-477.5 362,-471.5 362,-465.5 362,-465.5 362,-406.5 362,-406.5 362,-400.5 368,-394.5 374,-394.5 374,-394.5 501,-394.5 501,-394.5 507,-394.5 513,-400.5 513,-406.5 513,-406.5 513,-465.5 513,-465.5 513,-471.5 507,-477.5 501,-477.5\"/>\n<text text-anchor=\"start\" x=\"410.5\" y=\"-462.3\" font-family=\"Helvetica,sans-Serif\" font-size=\"14.00\" fill=\"#000000\">node #1</text>\n<text text-anchor=\"start\" x=\"408\" y=\"-447.3\" font-family=\"Helvetica,sans-Serif\" font-size=\"14.00\" fill=\"#000000\">gini = 0.0</text>\n<text text-anchor=\"start\" x=\"381.5\" y=\"-432.3\" font-family=\"Helvetica,sans-Serif\" font-size=\"14.00\" fill=\"#000000\">samples = 34.2%</text>\n<text text-anchor=\"start\" x=\"370\" y=\"-417.3\" font-family=\"Helvetica,sans-Serif\" font-size=\"14.00\" fill=\"#000000\">value = [1.0, 0.0, 0.0]</text>\n<text text-anchor=\"start\" x=\"379\" y=\"-402.3\" font-family=\"Helvetica,sans-Serif\" font-size=\"14.00\" fill=\"#000000\">class = Iris&#45;setosa</text>\n</g>\n<!-- 0&#45;&gt;1 -->\n<g id=\"edge1\" class=\"edge\">\n<title>0&#45;&gt;1</title>\n<path fill=\"none\" stroke=\"#000000\" d=\"M496.3983,-520.8642C488.5494,-509.555 480.192,-497.5133 472.3133,-486.1612\"/>\n<polygon fill=\"#000000\" stroke=\"#000000\" points=\"474.9752,-483.8579 466.3981,-477.6381 469.2245,-487.849 474.9752,-483.8579\"/>\n<text text-anchor=\"middle\" x=\"461.9546\" y=\"-498.5401\" font-family=\"Helvetica,sans-Serif\" font-size=\"14.00\" fill=\"#000000\">True</text>\n</g>\n<!-- 2 -->\n<g id=\"node3\" class=\"node\">\n<title>2</title>\n<path fill=\"#f1fdf6\" stroke=\"#000000\" d=\"M703.5,-485C703.5,-485 543.5,-485 543.5,-485 537.5,-485 531.5,-479 531.5,-473 531.5,-473 531.5,-399 531.5,-399 531.5,-393 537.5,-387 543.5,-387 543.5,-387 703.5,-387 703.5,-387 709.5,-387 715.5,-393 715.5,-399 715.5,-399 715.5,-473 715.5,-473 715.5,-479 709.5,-485 703.5,-485\"/>\n<text text-anchor=\"start\" x=\"596.5\" y=\"-469.8\" font-family=\"Helvetica,sans-Serif\" font-size=\"14.00\" fill=\"#000000\">node #2</text>\n<text text-anchor=\"start\" x=\"555.5\" y=\"-454.8\" font-family=\"Helvetica,sans-Serif\" font-size=\"14.00\" fill=\"#000000\">PetalWidthCm ≤ 1.75</text>\n<text text-anchor=\"start\" x=\"585.5\" y=\"-439.8\" font-family=\"Helvetica,sans-Serif\" font-size=\"14.00\" fill=\"#000000\">gini = 0.499</text>\n<text text-anchor=\"start\" x=\"567.5\" y=\"-424.8\" font-family=\"Helvetica,sans-Serif\" font-size=\"14.00\" fill=\"#000000\">samples = 65.8%</text>\n<text text-anchor=\"start\" x=\"539.5\" y=\"-409.8\" font-family=\"Helvetica,sans-Serif\" font-size=\"14.00\" fill=\"#000000\">value = [0.0, 0.519, 0.481]</text>\n<text text-anchor=\"start\" x=\"555.5\" y=\"-394.8\" font-family=\"Helvetica,sans-Serif\" font-size=\"14.00\" fill=\"#000000\">class = Iris&#45;versicolor</text>\n</g>\n<!-- 0&#45;&gt;2 -->\n<g id=\"edge2\" class=\"edge\">\n<title>0&#45;&gt;2</title>\n<path fill=\"none\" stroke=\"#000000\" d=\"M564.6017,-520.8642C570.7933,-511.9429 577.3014,-502.5657 583.6413,-493.4309\"/>\n<polygon fill=\"#000000\" stroke=\"#000000\" points=\"586.5761,-495.3407 589.4024,-485.1298 580.8254,-491.3495 586.5761,-495.3407\"/>\n<text text-anchor=\"middle\" x=\"593.846\" y=\"-506.0318\" font-family=\"Helvetica,sans-Serif\" font-size=\"14.00\" fill=\"#000000\">False</text>\n</g>\n<!-- 3 -->\n<g id=\"node4\" class=\"node\">\n<title>3</title>\n<path fill=\"#4de88e\" stroke=\"#000000\" d=\"M572.5,-351C572.5,-351 412.5,-351 412.5,-351 406.5,-351 400.5,-345 400.5,-339 400.5,-339 400.5,-265 400.5,-265 400.5,-259 406.5,-253 412.5,-253 412.5,-253 572.5,-253 572.5,-253 578.5,-253 584.5,-259 584.5,-265 584.5,-265 584.5,-339 584.5,-339 584.5,-345 578.5,-351 572.5,-351\"/>\n<text text-anchor=\"start\" x=\"465.5\" y=\"-335.8\" font-family=\"Helvetica,sans-Serif\" font-size=\"14.00\" fill=\"#000000\">node #3</text>\n<text text-anchor=\"start\" x=\"420\" y=\"-320.8\" font-family=\"Helvetica,sans-Serif\" font-size=\"14.00\" fill=\"#000000\">PetalLengthCm ≤ 4.95</text>\n<text text-anchor=\"start\" x=\"454.5\" y=\"-305.8\" font-family=\"Helvetica,sans-Serif\" font-size=\"14.00\" fill=\"#000000\">gini = 0.165</text>\n<text text-anchor=\"start\" x=\"436.5\" y=\"-290.8\" font-family=\"Helvetica,sans-Serif\" font-size=\"14.00\" fill=\"#000000\">samples = 36.7%</text>\n<text text-anchor=\"start\" x=\"408.5\" y=\"-275.8\" font-family=\"Helvetica,sans-Serif\" font-size=\"14.00\" fill=\"#000000\">value = [0.0, 0.909, 0.091]</text>\n<text text-anchor=\"start\" x=\"424.5\" y=\"-260.8\" font-family=\"Helvetica,sans-Serif\" font-size=\"14.00\" fill=\"#000000\">class = Iris&#45;versicolor</text>\n</g>\n<!-- 2&#45;&gt;3 -->\n<g id=\"edge3\" class=\"edge\">\n<title>2&#45;&gt;3</title>\n<path fill=\"none\" stroke=\"#000000\" d=\"M575.4643,-386.8642C566.3867,-377.5788 556.8264,-367.7995 547.5528,-358.3136\"/>\n<polygon fill=\"#000000\" stroke=\"#000000\" points=\"550.0232,-355.8338 540.5299,-351.1298 545.0178,-360.7272 550.0232,-355.8338\"/>\n</g>\n<!-- 10 -->\n<g id=\"node11\" class=\"node\">\n<title>10</title>\n<path fill=\"#853fe6\" stroke=\"#000000\" d=\"M835.5,-351C835.5,-351 675.5,-351 675.5,-351 669.5,-351 663.5,-345 663.5,-339 663.5,-339 663.5,-265 663.5,-265 663.5,-259 669.5,-253 675.5,-253 675.5,-253 835.5,-253 835.5,-253 841.5,-253 847.5,-259 847.5,-265 847.5,-265 847.5,-339 847.5,-339 847.5,-345 841.5,-351 835.5,-351\"/>\n<text text-anchor=\"start\" x=\"724.5\" y=\"-335.8\" font-family=\"Helvetica,sans-Serif\" font-size=\"14.00\" fill=\"#000000\">node #10</text>\n<text text-anchor=\"start\" x=\"683\" y=\"-320.8\" font-family=\"Helvetica,sans-Serif\" font-size=\"14.00\" fill=\"#000000\">PetalLengthCm ≤ 4.85</text>\n<text text-anchor=\"start\" x=\"717.5\" y=\"-305.8\" font-family=\"Helvetica,sans-Serif\" font-size=\"14.00\" fill=\"#000000\">gini = 0.056</text>\n<text text-anchor=\"start\" x=\"699.5\" y=\"-290.8\" font-family=\"Helvetica,sans-Serif\" font-size=\"14.00\" fill=\"#000000\">samples = 29.2%</text>\n<text text-anchor=\"start\" x=\"671.5\" y=\"-275.8\" font-family=\"Helvetica,sans-Serif\" font-size=\"14.00\" fill=\"#000000\">value = [0.0, 0.029, 0.971]</text>\n<text text-anchor=\"start\" x=\"692\" y=\"-260.8\" font-family=\"Helvetica,sans-Serif\" font-size=\"14.00\" fill=\"#000000\">class = Iris&#45;virginica</text>\n</g>\n<!-- 2&#45;&gt;10 -->\n<g id=\"edge10\" class=\"edge\">\n<title>2&#45;&gt;10</title>\n<path fill=\"none\" stroke=\"#000000\" d=\"M671.9024,-386.8642C681.0493,-377.5788 690.6826,-367.7995 700.0269,-358.3136\"/>\n<polygon fill=\"#000000\" stroke=\"#000000\" points=\"702.5791,-360.7101 707.1035,-351.1298 697.5923,-355.7977 702.5791,-360.7101\"/>\n</g>\n<!-- 4 -->\n<g id=\"node5\" class=\"node\">\n<title>4</title>\n<path fill=\"#3ee684\" stroke=\"#000000\" d=\"M325.5,-217C325.5,-217 165.5,-217 165.5,-217 159.5,-217 153.5,-211 153.5,-205 153.5,-205 153.5,-131 153.5,-131 153.5,-125 159.5,-119 165.5,-119 165.5,-119 325.5,-119 325.5,-119 331.5,-119 337.5,-125 337.5,-131 337.5,-131 337.5,-205 337.5,-205 337.5,-211 331.5,-217 325.5,-217\"/>\n<text text-anchor=\"start\" x=\"218.5\" y=\"-201.8\" font-family=\"Helvetica,sans-Serif\" font-size=\"14.00\" fill=\"#000000\">node #4</text>\n<text text-anchor=\"start\" x=\"171\" y=\"-186.8\" font-family=\"Helvetica,sans-Serif\" font-size=\"14.00\" fill=\"#000000\">SepalLengthCm ≤ 4.95</text>\n<text text-anchor=\"start\" x=\"212\" y=\"-171.8\" font-family=\"Helvetica,sans-Serif\" font-size=\"14.00\" fill=\"#000000\">gini = 0.05</text>\n<text text-anchor=\"start\" x=\"189.5\" y=\"-156.8\" font-family=\"Helvetica,sans-Serif\" font-size=\"14.00\" fill=\"#000000\">samples = 32.5%</text>\n<text text-anchor=\"start\" x=\"161.5\" y=\"-141.8\" font-family=\"Helvetica,sans-Serif\" font-size=\"14.00\" fill=\"#000000\">value = [0.0, 0.974, 0.026]</text>\n<text text-anchor=\"start\" x=\"177.5\" y=\"-126.8\" font-family=\"Helvetica,sans-Serif\" font-size=\"14.00\" fill=\"#000000\">class = Iris&#45;versicolor</text>\n</g>\n<!-- 3&#45;&gt;4 -->\n<g id=\"edge4\" class=\"edge\">\n<title>3&#45;&gt;4</title>\n<path fill=\"none\" stroke=\"#000000\" d=\"M401.9289,-252.8642C383.3868,-242.805 363.7765,-232.1662 344.9426,-221.9486\"/>\n<polygon fill=\"#000000\" stroke=\"#000000\" points=\"346.519,-218.822 336.0602,-217.1298 343.181,-224.9749 346.519,-218.822\"/>\n</g>\n<!-- 7 -->\n<g id=\"node8\" class=\"node\">\n<title>7</title>\n<path fill=\"#d5bdf6\" stroke=\"#000000\" d=\"M556.5,-217C556.5,-217 428.5,-217 428.5,-217 422.5,-217 416.5,-211 416.5,-205 416.5,-205 416.5,-131 416.5,-131 416.5,-125 422.5,-119 428.5,-119 428.5,-119 556.5,-119 556.5,-119 562.5,-119 568.5,-125 568.5,-131 568.5,-131 568.5,-205 568.5,-205 568.5,-211 562.5,-217 556.5,-217\"/>\n<text text-anchor=\"start\" x=\"465.5\" y=\"-201.8\" font-family=\"Helvetica,sans-Serif\" font-size=\"14.00\" fill=\"#000000\">node #7</text>\n<text text-anchor=\"start\" x=\"424.5\" y=\"-186.8\" font-family=\"Helvetica,sans-Serif\" font-size=\"14.00\" fill=\"#000000\">PetalWidthCm ≤ 1.55</text>\n<text text-anchor=\"start\" x=\"459\" y=\"-171.8\" font-family=\"Helvetica,sans-Serif\" font-size=\"14.00\" fill=\"#000000\">gini = 0.48</text>\n<text text-anchor=\"start\" x=\"440.5\" y=\"-156.8\" font-family=\"Helvetica,sans-Serif\" font-size=\"14.00\" fill=\"#000000\">samples = 4.2%</text>\n<text text-anchor=\"start\" x=\"425\" y=\"-141.8\" font-family=\"Helvetica,sans-Serif\" font-size=\"14.00\" fill=\"#000000\">value = [0.0, 0.4, 0.6]</text>\n<text text-anchor=\"start\" x=\"429\" y=\"-126.8\" font-family=\"Helvetica,sans-Serif\" font-size=\"14.00\" fill=\"#000000\">class = Iris&#45;virginica</text>\n</g>\n<!-- 3&#45;&gt;7 -->\n<g id=\"edge7\" class=\"edge\">\n<title>3&#45;&gt;7</title>\n<path fill=\"none\" stroke=\"#000000\" d=\"M492.5,-252.8642C492.5,-244.5802 492.5,-235.903 492.5,-227.3918\"/>\n<polygon fill=\"#000000\" stroke=\"#000000\" points=\"496.0001,-227.1298 492.5,-217.1298 489.0001,-227.1299 496.0001,-227.1298\"/>\n</g>\n<!-- 5 -->\n<g id=\"node6\" class=\"node\">\n<title>5</title>\n<path fill=\"#8139e5\" stroke=\"#000000\" d=\"M139,-83C139,-83 12,-83 12,-83 6,-83 0,-77 0,-71 0,-71 0,-12 0,-12 0,-6 6,0 12,0 12,0 139,0 139,0 145,0 151,-6 151,-12 151,-12 151,-71 151,-71 151,-77 145,-83 139,-83\"/>\n<text text-anchor=\"start\" x=\"48.5\" y=\"-67.8\" font-family=\"Helvetica,sans-Serif\" font-size=\"14.00\" fill=\"#000000\">node #5</text>\n<text text-anchor=\"start\" x=\"46\" y=\"-52.8\" font-family=\"Helvetica,sans-Serif\" font-size=\"14.00\" fill=\"#000000\">gini = 0.0</text>\n<text text-anchor=\"start\" x=\"23.5\" y=\"-37.8\" font-family=\"Helvetica,sans-Serif\" font-size=\"14.00\" fill=\"#000000\">samples = 0.8%</text>\n<text text-anchor=\"start\" x=\"8\" y=\"-22.8\" font-family=\"Helvetica,sans-Serif\" font-size=\"14.00\" fill=\"#000000\">value = [0.0, 0.0, 1.0]</text>\n<text text-anchor=\"start\" x=\"12\" y=\"-7.8\" font-family=\"Helvetica,sans-Serif\" font-size=\"14.00\" fill=\"#000000\">class = Iris&#45;virginica</text>\n</g>\n<!-- 4&#45;&gt;5 -->\n<g id=\"edge5\" class=\"edge\">\n<title>4&#45;&gt;5</title>\n<path fill=\"none\" stroke=\"#000000\" d=\"M179.2868,-118.7296C166.2857,-109.0553 152.6674,-98.9216 139.7326,-89.2966\"/>\n<polygon fill=\"#000000\" stroke=\"#000000\" points=\"141.4567,-86.2168 131.3446,-83.055 137.2778,-91.8327 141.4567,-86.2168\"/>\n</g>\n<!-- 6 -->\n<g id=\"node7\" class=\"node\">\n<title>6</title>\n<path fill=\"#39e581\" stroke=\"#000000\" d=\"M309.5,-83C309.5,-83 181.5,-83 181.5,-83 175.5,-83 169.5,-77 169.5,-71 169.5,-71 169.5,-12 169.5,-12 169.5,-6 175.5,0 181.5,0 181.5,0 309.5,0 309.5,0 315.5,0 321.5,-6 321.5,-12 321.5,-12 321.5,-71 321.5,-71 321.5,-77 315.5,-83 309.5,-83\"/>\n<text text-anchor=\"start\" x=\"218.5\" y=\"-67.8\" font-family=\"Helvetica,sans-Serif\" font-size=\"14.00\" fill=\"#000000\">node #6</text>\n<text text-anchor=\"start\" x=\"216\" y=\"-52.8\" font-family=\"Helvetica,sans-Serif\" font-size=\"14.00\" fill=\"#000000\">gini = 0.0</text>\n<text text-anchor=\"start\" x=\"189.5\" y=\"-37.8\" font-family=\"Helvetica,sans-Serif\" font-size=\"14.00\" fill=\"#000000\">samples = 31.7%</text>\n<text text-anchor=\"start\" x=\"178\" y=\"-22.8\" font-family=\"Helvetica,sans-Serif\" font-size=\"14.00\" fill=\"#000000\">value = [0.0, 1.0, 0.0]</text>\n<text text-anchor=\"start\" x=\"177.5\" y=\"-7.8\" font-family=\"Helvetica,sans-Serif\" font-size=\"14.00\" fill=\"#000000\">class = Iris&#45;versicolor</text>\n</g>\n<!-- 4&#45;&gt;6 -->\n<g id=\"edge6\" class=\"edge\">\n<title>4&#45;&gt;6</title>\n<path fill=\"none\" stroke=\"#000000\" d=\"M245.5,-118.7296C245.5,-110.3452 245.5,-101.6158 245.5,-93.1714\"/>\n<polygon fill=\"#000000\" stroke=\"#000000\" points=\"249.0001,-93.0549 245.5,-83.055 242.0001,-93.055 249.0001,-93.0549\"/>\n</g>\n<!-- 8 -->\n<g id=\"node9\" class=\"node\">\n<title>8</title>\n<path fill=\"#8139e5\" stroke=\"#000000\" d=\"M479,-83C479,-83 352,-83 352,-83 346,-83 340,-77 340,-71 340,-71 340,-12 340,-12 340,-6 346,0 352,0 352,0 479,0 479,0 485,0 491,-6 491,-12 491,-12 491,-71 491,-71 491,-77 485,-83 479,-83\"/>\n<text text-anchor=\"start\" x=\"388.5\" y=\"-67.8\" font-family=\"Helvetica,sans-Serif\" font-size=\"14.00\" fill=\"#000000\">node #8</text>\n<text text-anchor=\"start\" x=\"386\" y=\"-52.8\" font-family=\"Helvetica,sans-Serif\" font-size=\"14.00\" fill=\"#000000\">gini = 0.0</text>\n<text text-anchor=\"start\" x=\"363.5\" y=\"-37.8\" font-family=\"Helvetica,sans-Serif\" font-size=\"14.00\" fill=\"#000000\">samples = 2.5%</text>\n<text text-anchor=\"start\" x=\"348\" y=\"-22.8\" font-family=\"Helvetica,sans-Serif\" font-size=\"14.00\" fill=\"#000000\">value = [0.0, 0.0, 1.0]</text>\n<text text-anchor=\"start\" x=\"352\" y=\"-7.8\" font-family=\"Helvetica,sans-Serif\" font-size=\"14.00\" fill=\"#000000\">class = Iris&#45;virginica</text>\n</g>\n<!-- 7&#45;&gt;8 -->\n<g id=\"edge8\" class=\"edge\">\n<title>7&#45;&gt;8</title>\n<path fill=\"none\" stroke=\"#000000\" d=\"M462.5093,-118.7296C457.1253,-109.8845 451.5077,-100.6555 446.1066,-91.7822\"/>\n<polygon fill=\"#000000\" stroke=\"#000000\" points=\"448.9835,-89.7771 440.7943,-83.055 443.0041,-93.4168 448.9835,-89.7771\"/>\n</g>\n<!-- 9 -->\n<g id=\"node10\" class=\"node\">\n<title>9</title>\n<path fill=\"#39e581\" stroke=\"#000000\" d=\"M649.5,-83C649.5,-83 521.5,-83 521.5,-83 515.5,-83 509.5,-77 509.5,-71 509.5,-71 509.5,-12 509.5,-12 509.5,-6 515.5,0 521.5,0 521.5,0 649.5,0 649.5,0 655.5,0 661.5,-6 661.5,-12 661.5,-12 661.5,-71 661.5,-71 661.5,-77 655.5,-83 649.5,-83\"/>\n<text text-anchor=\"start\" x=\"558.5\" y=\"-67.8\" font-family=\"Helvetica,sans-Serif\" font-size=\"14.00\" fill=\"#000000\">node #9</text>\n<text text-anchor=\"start\" x=\"556\" y=\"-52.8\" font-family=\"Helvetica,sans-Serif\" font-size=\"14.00\" fill=\"#000000\">gini = 0.0</text>\n<text text-anchor=\"start\" x=\"533.5\" y=\"-37.8\" font-family=\"Helvetica,sans-Serif\" font-size=\"14.00\" fill=\"#000000\">samples = 1.7%</text>\n<text text-anchor=\"start\" x=\"518\" y=\"-22.8\" font-family=\"Helvetica,sans-Serif\" font-size=\"14.00\" fill=\"#000000\">value = [0.0, 1.0, 0.0]</text>\n<text text-anchor=\"start\" x=\"517.5\" y=\"-7.8\" font-family=\"Helvetica,sans-Serif\" font-size=\"14.00\" fill=\"#000000\">class = Iris&#45;versicolor</text>\n</g>\n<!-- 7&#45;&gt;9 -->\n<g id=\"edge9\" class=\"edge\">\n<title>7&#45;&gt;9</title>\n<path fill=\"none\" stroke=\"#000000\" d=\"M528.7225,-118.7296C535.3607,-109.7002 542.293,-100.2707 548.941,-91.2281\"/>\n<polygon fill=\"#000000\" stroke=\"#000000\" points=\"551.8463,-93.1851 554.9497,-83.055 546.2064,-89.0388 551.8463,-93.1851\"/>\n</g>\n<!-- 11 -->\n<g id=\"node12\" class=\"node\">\n<title>11</title>\n<path fill=\"#ffffff\" stroke=\"#000000\" d=\"M819.5,-217C819.5,-217 691.5,-217 691.5,-217 685.5,-217 679.5,-211 679.5,-205 679.5,-205 679.5,-131 679.5,-131 679.5,-125 685.5,-119 691.5,-119 691.5,-119 819.5,-119 819.5,-119 825.5,-119 831.5,-125 831.5,-131 831.5,-131 831.5,-205 831.5,-205 831.5,-211 825.5,-217 819.5,-217\"/>\n<text text-anchor=\"start\" x=\"724.5\" y=\"-201.8\" font-family=\"Helvetica,sans-Serif\" font-size=\"14.00\" fill=\"#000000\">node #11</text>\n<text text-anchor=\"start\" x=\"689\" y=\"-186.8\" font-family=\"Helvetica,sans-Serif\" font-size=\"14.00\" fill=\"#000000\">SepalWidthCm ≤ 3.1</text>\n<text text-anchor=\"start\" x=\"726\" y=\"-171.8\" font-family=\"Helvetica,sans-Serif\" font-size=\"14.00\" fill=\"#000000\">gini = 0.5</text>\n<text text-anchor=\"start\" x=\"703.5\" y=\"-156.8\" font-family=\"Helvetica,sans-Serif\" font-size=\"14.00\" fill=\"#000000\">samples = 1.7%</text>\n<text text-anchor=\"start\" x=\"688\" y=\"-141.8\" font-family=\"Helvetica,sans-Serif\" font-size=\"14.00\" fill=\"#000000\">value = [0.0, 0.5, 0.5]</text>\n<text text-anchor=\"start\" x=\"687.5\" y=\"-126.8\" font-family=\"Helvetica,sans-Serif\" font-size=\"14.00\" fill=\"#000000\">class = Iris&#45;versicolor</text>\n</g>\n<!-- 10&#45;&gt;11 -->\n<g id=\"edge11\" class=\"edge\">\n<title>10&#45;&gt;11</title>\n<path fill=\"none\" stroke=\"#000000\" d=\"M755.5,-252.8642C755.5,-244.5802 755.5,-235.903 755.5,-227.3918\"/>\n<polygon fill=\"#000000\" stroke=\"#000000\" points=\"759.0001,-227.1298 755.5,-217.1298 752.0001,-227.1299 759.0001,-227.1298\"/>\n</g>\n<!-- 14 -->\n<g id=\"node15\" class=\"node\">\n<title>14</title>\n<path fill=\"#8139e5\" stroke=\"#000000\" d=\"M989,-209.5C989,-209.5 862,-209.5 862,-209.5 856,-209.5 850,-203.5 850,-197.5 850,-197.5 850,-138.5 850,-138.5 850,-132.5 856,-126.5 862,-126.5 862,-126.5 989,-126.5 989,-126.5 995,-126.5 1001,-132.5 1001,-138.5 1001,-138.5 1001,-197.5 1001,-197.5 1001,-203.5 995,-209.5 989,-209.5\"/>\n<text text-anchor=\"start\" x=\"894.5\" y=\"-194.3\" font-family=\"Helvetica,sans-Serif\" font-size=\"14.00\" fill=\"#000000\">node #14</text>\n<text text-anchor=\"start\" x=\"896\" y=\"-179.3\" font-family=\"Helvetica,sans-Serif\" font-size=\"14.00\" fill=\"#000000\">gini = 0.0</text>\n<text text-anchor=\"start\" x=\"869.5\" y=\"-164.3\" font-family=\"Helvetica,sans-Serif\" font-size=\"14.00\" fill=\"#000000\">samples = 27.5%</text>\n<text text-anchor=\"start\" x=\"858\" y=\"-149.3\" font-family=\"Helvetica,sans-Serif\" font-size=\"14.00\" fill=\"#000000\">value = [0.0, 0.0, 1.0]</text>\n<text text-anchor=\"start\" x=\"862\" y=\"-134.3\" font-family=\"Helvetica,sans-Serif\" font-size=\"14.00\" fill=\"#000000\">class = Iris&#45;virginica</text>\n</g>\n<!-- 10&#45;&gt;14 -->\n<g id=\"edge14\" class=\"edge\">\n<title>10&#45;&gt;14</title>\n<path fill=\"none\" stroke=\"#000000\" d=\"M817.8364,-252.8642C833.1685,-240.7789 849.562,-227.857 864.8149,-215.8342\"/>\n<polygon fill=\"#000000\" stroke=\"#000000\" points=\"866.9886,-218.5774 872.6755,-209.6381 862.6553,-213.0799 866.9886,-218.5774\"/>\n</g>\n<!-- 12 -->\n<g id=\"node13\" class=\"node\">\n<title>12</title>\n<path fill=\"#8139e5\" stroke=\"#000000\" d=\"M819,-83C819,-83 692,-83 692,-83 686,-83 680,-77 680,-71 680,-71 680,-12 680,-12 680,-6 686,0 692,0 692,0 819,0 819,0 825,0 831,-6 831,-12 831,-12 831,-71 831,-71 831,-77 825,-83 819,-83\"/>\n<text text-anchor=\"start\" x=\"724.5\" y=\"-67.8\" font-family=\"Helvetica,sans-Serif\" font-size=\"14.00\" fill=\"#000000\">node #12</text>\n<text text-anchor=\"start\" x=\"726\" y=\"-52.8\" font-family=\"Helvetica,sans-Serif\" font-size=\"14.00\" fill=\"#000000\">gini = 0.0</text>\n<text text-anchor=\"start\" x=\"703.5\" y=\"-37.8\" font-family=\"Helvetica,sans-Serif\" font-size=\"14.00\" fill=\"#000000\">samples = 0.8%</text>\n<text text-anchor=\"start\" x=\"688\" y=\"-22.8\" font-family=\"Helvetica,sans-Serif\" font-size=\"14.00\" fill=\"#000000\">value = [0.0, 0.0, 1.0]</text>\n<text text-anchor=\"start\" x=\"692\" y=\"-7.8\" font-family=\"Helvetica,sans-Serif\" font-size=\"14.00\" fill=\"#000000\">class = Iris&#45;virginica</text>\n</g>\n<!-- 11&#45;&gt;12 -->\n<g id=\"edge12\" class=\"edge\">\n<title>11&#45;&gt;12</title>\n<path fill=\"none\" stroke=\"#000000\" d=\"M755.5,-118.7296C755.5,-110.3452 755.5,-101.6158 755.5,-93.1714\"/>\n<polygon fill=\"#000000\" stroke=\"#000000\" points=\"759.0001,-93.0549 755.5,-83.055 752.0001,-93.055 759.0001,-93.0549\"/>\n</g>\n<!-- 13 -->\n<g id=\"node14\" class=\"node\">\n<title>13</title>\n<path fill=\"#39e581\" stroke=\"#000000\" d=\"M989.5,-83C989.5,-83 861.5,-83 861.5,-83 855.5,-83 849.5,-77 849.5,-71 849.5,-71 849.5,-12 849.5,-12 849.5,-6 855.5,0 861.5,0 861.5,0 989.5,0 989.5,0 995.5,0 1001.5,-6 1001.5,-12 1001.5,-12 1001.5,-71 1001.5,-71 1001.5,-77 995.5,-83 989.5,-83\"/>\n<text text-anchor=\"start\" x=\"894.5\" y=\"-67.8\" font-family=\"Helvetica,sans-Serif\" font-size=\"14.00\" fill=\"#000000\">node #13</text>\n<text text-anchor=\"start\" x=\"896\" y=\"-52.8\" font-family=\"Helvetica,sans-Serif\" font-size=\"14.00\" fill=\"#000000\">gini = 0.0</text>\n<text text-anchor=\"start\" x=\"873.5\" y=\"-37.8\" font-family=\"Helvetica,sans-Serif\" font-size=\"14.00\" fill=\"#000000\">samples = 0.8%</text>\n<text text-anchor=\"start\" x=\"858\" y=\"-22.8\" font-family=\"Helvetica,sans-Serif\" font-size=\"14.00\" fill=\"#000000\">value = [0.0, 1.0, 0.0]</text>\n<text text-anchor=\"start\" x=\"857.5\" y=\"-7.8\" font-family=\"Helvetica,sans-Serif\" font-size=\"14.00\" fill=\"#000000\">class = Iris&#45;versicolor</text>\n</g>\n<!-- 11&#45;&gt;13 -->\n<g id=\"edge13\" class=\"edge\">\n<title>11&#45;&gt;13</title>\n<path fill=\"none\" stroke=\"#000000\" d=\"M821.7132,-118.7296C834.7143,-109.0553 848.3326,-98.9216 861.2674,-89.2966\"/>\n<polygon fill=\"#000000\" stroke=\"#000000\" points=\"863.7222,-91.8327 869.6554,-83.055 859.5433,-86.2168 863.7222,-91.8327\"/>\n</g>\n</g>\n</svg>\n"
          },
          "metadata": {
            "tags": []
          },
          "execution_count": 106
        }
      ]
    },
    {
      "cell_type": "code",
      "metadata": {
        "colab": {
          "base_uri": "https://localhost:8080/",
          "height": 916,
          "referenced_widgets": [
            "1b6c9e00718f4a21a7e6aaf89580ac14",
            "2cafa9b27c5a480d8895b88bbf28770c",
            "d046294d7bf147dd8d4f9f2477499db6",
            "7f94db1f51214c2a8b2a6477965412db",
            "83c702261cfd49aeb2af3113e85eca48",
            "c2464fe19726432395f730c22fa10456",
            "8d4c5b624c164b45b9ff70a3948c29d0",
            "cc21383cd1b14d688a8d45a15a2dfee4",
            "f8cce53ced694162bd040bc5070cdc60",
            "d43a35c68ce5420dbe11ae57358d613e",
            "19cd660417674eea883cea4ff504ec8f",
            "e0967c1f8f0a4c4f849b35e69da295b7",
            "4c06633ae40b439ea6eb75e772200f4d",
            "525e469ca2db4eb584c6e1245d4b9b0e",
            "038a40d7807946de8007a0b391ac8f14",
            "ae68191d9a754493a39f960bc6b65372",
            "b24cd512aba94b9693c5b2a4aee013ba",
            "de56fba1832447589ca9c73bf6624e72",
            "a64a623b78ac471d977d3ca757060b47"
          ]
        },
        "id": "ZUBGjmbX4323",
        "outputId": "11131e54-5746-40bb-963c-17d57bdd5230"
      },
      "source": [
        "x, y = iris.drop('Class',axis=1), iris['Class']\n",
        "\n",
        "features_label = iris.drop('Class',axis=1).columns\n",
        "\n",
        "class_label = ['Iris-setosa', 'Iris-versicolor', 'Iris-virginica']\n",
        "\n",
        "\n",
        "def plot_tree(crit, split, depth, min_samples_split, min_samples_leaf=0.2):\n",
        "    estimator = DecisionTreeClassifier(\n",
        "           random_state = 0 \n",
        "          ,criterion = crit\n",
        "          ,splitter = split\n",
        "          ,max_depth = depth\n",
        "          ,min_samples_split=min_samples_split\n",
        "          ,min_samples_leaf=min_samples_leaf\n",
        "    )\n",
        "    estimator.fit(x, y)\n",
        "    graph = Source(export_graphviz(estimator\n",
        "      , out_file=None\n",
        "      , feature_names=features_label\n",
        "      , class_names=class_label\n",
        "      , impurity=True\n",
        "      , filled = True))\n",
        "    display(SVG(graph.pipe(format='svg')))\n",
        "    return estimator\n",
        "\n",
        "inter=interactive(plot_tree \n",
        "   , crit = [\"gini\", \"entropy\"]\n",
        "   , split = [\"best\", \"random\"]\n",
        "   , depth=[1, 2, 3, 4, 5, 6, 7, 8, 10]\n",
        "   , min_samples_split=(1, 5)\n",
        "   , min_samples_leaf=(1, 5))\n",
        "\n",
        "display(inter)"
      ],
      "execution_count": null,
      "outputs": [
        {
          "output_type": "display_data",
          "data": {
            "application/vnd.jupyter.widget-view+json": {
              "model_id": "1b6c9e00718f4a21a7e6aaf89580ac14",
              "version_minor": 0,
              "version_major": 2
            },
            "text/plain": [
              "interactive(children=(Dropdown(description='crit', options=('gini', 'entropy'), value='gini'), Dropdown(descri…"
            ]
          },
          "metadata": {
            "tags": []
          }
        }
      ]
    },
    {
      "cell_type": "code",
      "metadata": {
        "colab": {
          "base_uri": "https://localhost:8080/"
        },
        "id": "KMPD6-7mWj8h",
        "outputId": "00327636-4b0a-48b8-dba9-32e5da7cbbe7"
      },
      "source": [
        "x = iris[['PetalLengthCm','PetalWidthCm']].values\n",
        "y = iris.Class.values\n",
        "\n",
        "estimator = DecisionTreeClassifier(max_depth=3,min_samples_split=2,min_samples_leaf=2)\n",
        "estimator.fit(x, y)\n",
        "DecisionTreeClassifier(class_weight=None, criterion='gini', max_depth=3,\n",
        "                       max_features=None, max_leaf_nodes=None,\n",
        "                       min_impurity_decrease=0.0, min_impurity_split=None,\n",
        "                       min_samples_leaf=2, min_samples_split=2,\n",
        "                       min_weight_fraction_leaf=0.0, presort=False,\n",
        "                       random_state=None, splitter='best')\n",
        "n_nodes = estimator.tree_.node_count\n",
        "children_left = estimator.tree_.children_left\n",
        "children_right = estimator.tree_.children_right\n",
        "feature = estimator.tree_.feature\n",
        "threshold = estimator.tree_.threshold\n",
        "\n",
        "print(\"Número de nós: {}\".format(n_nodes))"
      ],
      "execution_count": null,
      "outputs": [
        {
          "output_type": "stream",
          "text": [
            "Número de nós: 9\n"
          ],
          "name": "stdout"
        }
      ]
    },
    {
      "cell_type": "code",
      "metadata": {
        "colab": {
          "base_uri": "https://localhost:8080/"
        },
        "id": "qsQJeFbeh8Nu",
        "outputId": "910c232b-780b-4221-f720-9d2d895a800f"
      },
      "source": [
        "node_depth = np.zeros(shape=n_nodes, dtype=np.int64)\n",
        "is_leaves = np.zeros(shape=n_nodes, dtype=bool)\n",
        "stack = [(0, -1)]\n",
        "while len(stack) > 0:\n",
        "    node_id, parent_depth = stack.pop()\n",
        "    node_depth[node_id] = parent_depth + 1\n",
        "\n",
        "    if (children_left[node_id] != children_right[node_id]):\n",
        "        stack.append((children_left[node_id], parent_depth + 1))\n",
        "        stack.append((children_right[node_id], parent_depth + 1))\n",
        "    else:\n",
        "        is_leaves[node_id] = True\n",
        "\n",
        "print(\"\\nA arvore binária tem %s nós e a seguinte estrutura: \\n\"\n",
        "      % n_nodes)\n",
        "for i in range(n_nodes):\n",
        "    if is_leaves[i]:\n",
        "        print(\"%snó=%s (nó folha).\" % (node_depth[i] * \"\\t\", i))\n",
        "    else:\n",
        "        print(\"%snó=%s (nó teste): vai para o nó %s se o valor do atributo %s <= %s \\n se não, vai para o \"\n",
        "              \"nó %s.\"\n",
        "              % (node_depth[i] * \"\\t\",\n",
        "                 i,\n",
        "                 children_left[i],\n",
        "                 iris.columns[feature[i]],\n",
        "                 threshold[i],\n",
        "                 children_right[i],\n",
        "                 ))"
      ],
      "execution_count": null,
      "outputs": [
        {
          "output_type": "stream",
          "text": [
            "\n",
            "A arvore binária tem 9 nós e a seguinte estrutura: \n",
            "\n",
            "nó=0 (nó teste): vai para o nó 1 se o valor do atributo SepalWidthCm <= 0.800000011920929 \n",
            " se não, vai para o nó 2.\n",
            "\tnó=1 (nó folha).\n",
            "\tnó=2 (nó teste): vai para o nó 3 se o valor do atributo SepalWidthCm <= 1.75 \n",
            " se não, vai para o nó 6.\n",
            "\t\tnó=3 (nó teste): vai para o nó 4 se o valor do atributo SepalLengthCm <= 4.950000047683716 \n",
            " se não, vai para o nó 5.\n",
            "\t\t\tnó=4 (nó folha).\n",
            "\t\t\tnó=5 (nó folha).\n",
            "\t\tnó=6 (nó teste): vai para o nó 7 se o valor do atributo SepalLengthCm <= 4.8500001430511475 \n",
            " se não, vai para o nó 8.\n",
            "\t\t\tnó=7 (nó folha).\n",
            "\t\t\tnó=8 (nó folha).\n"
          ],
          "name": "stdout"
        }
      ]
    }
  ]
}