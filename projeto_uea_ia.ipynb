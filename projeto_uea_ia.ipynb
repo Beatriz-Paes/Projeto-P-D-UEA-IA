{
  "nbformat": 4,
  "nbformat_minor": 0,
  "metadata": {
    "colab": {
      "name": "projeto_uea_ia.ipynb",
      "provenance": [],
      "collapsed_sections": [],
      "mount_file_id": "1u5yho4ZifVcnPpdauhA1zYUTRriE0EVP",
      "authorship_tag": "ABX9TyPU/V/seSn8ybelWmII7myh",
      "include_colab_link": true
    },
    "kernelspec": {
      "name": "python3",
      "display_name": "Python 3"
    },
    "widgets": {
      "application/vnd.jupyter.widget-state+json": {
        "45bef9af9bb645118a0e2dfb8d6bd2f7": {
          "model_module": "@jupyter-widgets/controls",
          "model_name": "VBoxModel",
          "state": {
            "_view_name": "VBoxView",
            "_dom_classes": [
              "widget-interact"
            ],
            "_model_name": "VBoxModel",
            "_view_module": "@jupyter-widgets/controls",
            "_model_module_version": "1.5.0",
            "_view_count": null,
            "_view_module_version": "1.5.0",
            "box_style": "",
            "layout": "IPY_MODEL_b64758da0d624ab295b0469bebcb6336",
            "_model_module": "@jupyter-widgets/controls",
            "children": [
              "IPY_MODEL_fd6d8b3035d74df69cc7c77c3e5dabcc",
              "IPY_MODEL_0426122d3cf84426ab7f6ca9e5b35222",
              "IPY_MODEL_44d13e3e0b1a477284a3446f94a96350",
              "IPY_MODEL_dbe2a76c18d2405da756747e924d14f2",
              "IPY_MODEL_1c847c73d3dd4594b4763ff3e8a8f112",
              "IPY_MODEL_a4a13de1f08c4e0987ff8624bcda99cd"
            ]
          }
        },
        "b64758da0d624ab295b0469bebcb6336": {
          "model_module": "@jupyter-widgets/base",
          "model_name": "LayoutModel",
          "state": {
            "_view_name": "LayoutView",
            "grid_template_rows": null,
            "right": null,
            "justify_content": null,
            "_view_module": "@jupyter-widgets/base",
            "overflow": null,
            "_model_module_version": "1.2.0",
            "_view_count": null,
            "flex_flow": null,
            "width": null,
            "min_width": null,
            "border": null,
            "align_items": null,
            "bottom": null,
            "_model_module": "@jupyter-widgets/base",
            "top": null,
            "grid_column": null,
            "overflow_y": null,
            "overflow_x": null,
            "grid_auto_flow": null,
            "grid_area": null,
            "grid_template_columns": null,
            "flex": null,
            "_model_name": "LayoutModel",
            "justify_items": null,
            "grid_row": null,
            "max_height": null,
            "align_content": null,
            "visibility": null,
            "align_self": null,
            "height": null,
            "min_height": null,
            "padding": null,
            "grid_auto_rows": null,
            "grid_gap": null,
            "max_width": null,
            "order": null,
            "_view_module_version": "1.2.0",
            "grid_template_areas": null,
            "object_position": null,
            "object_fit": null,
            "grid_auto_columns": null,
            "margin": null,
            "display": null,
            "left": null
          }
        },
        "fd6d8b3035d74df69cc7c77c3e5dabcc": {
          "model_module": "@jupyter-widgets/controls",
          "model_name": "DropdownModel",
          "state": {
            "_options_labels": [
              "gini",
              "entropy"
            ],
            "_view_name": "DropdownView",
            "style": "IPY_MODEL_22a9502c1fb646c2bd1f1ee052681513",
            "_dom_classes": [],
            "description": "crit",
            "_model_name": "DropdownModel",
            "index": 0,
            "_view_module": "@jupyter-widgets/controls",
            "_model_module_version": "1.5.0",
            "_view_count": null,
            "disabled": false,
            "_view_module_version": "1.5.0",
            "description_tooltip": null,
            "_model_module": "@jupyter-widgets/controls",
            "layout": "IPY_MODEL_d3826311566d44e8b18ee3dacddc630b"
          }
        },
        "0426122d3cf84426ab7f6ca9e5b35222": {
          "model_module": "@jupyter-widgets/controls",
          "model_name": "DropdownModel",
          "state": {
            "_options_labels": [
              "best",
              "random"
            ],
            "_view_name": "DropdownView",
            "style": "IPY_MODEL_d2bb75dcd0e44af6b2fbdcb9f52b0a5b",
            "_dom_classes": [],
            "description": "split",
            "_model_name": "DropdownModel",
            "index": 0,
            "_view_module": "@jupyter-widgets/controls",
            "_model_module_version": "1.5.0",
            "_view_count": null,
            "disabled": false,
            "_view_module_version": "1.5.0",
            "description_tooltip": null,
            "_model_module": "@jupyter-widgets/controls",
            "layout": "IPY_MODEL_6f58c0ed1293432fb1bc083c50ec5dfc"
          }
        },
        "44d13e3e0b1a477284a3446f94a96350": {
          "model_module": "@jupyter-widgets/controls",
          "model_name": "DropdownModel",
          "state": {
            "_options_labels": [
              "1",
              "2",
              "3",
              "4",
              "5",
              "6",
              "7",
              "8",
              "10"
            ],
            "_view_name": "DropdownView",
            "style": "IPY_MODEL_49b30643890344c6994369f6d651eabe",
            "_dom_classes": [],
            "description": "depth",
            "_model_name": "DropdownModel",
            "index": 0,
            "_view_module": "@jupyter-widgets/controls",
            "_model_module_version": "1.5.0",
            "_view_count": null,
            "disabled": false,
            "_view_module_version": "1.5.0",
            "description_tooltip": null,
            "_model_module": "@jupyter-widgets/controls",
            "layout": "IPY_MODEL_4e9b4f44def8433c819f9a7d12fbc6ff"
          }
        },
        "dbe2a76c18d2405da756747e924d14f2": {
          "model_module": "@jupyter-widgets/controls",
          "model_name": "IntSliderModel",
          "state": {
            "_view_name": "IntSliderView",
            "style": "IPY_MODEL_3aaf9fc044f8490e86c52a05bbfe90f6",
            "_dom_classes": [],
            "description": "min_samples_split",
            "step": 1,
            "_model_name": "IntSliderModel",
            "orientation": "horizontal",
            "max": 5,
            "_view_module": "@jupyter-widgets/controls",
            "_model_module_version": "1.5.0",
            "value": 3,
            "_view_count": null,
            "disabled": false,
            "_view_module_version": "1.5.0",
            "min": 1,
            "continuous_update": true,
            "readout_format": "d",
            "description_tooltip": null,
            "readout": true,
            "_model_module": "@jupyter-widgets/controls",
            "layout": "IPY_MODEL_35a7b7d419634f2cbc25c176f09aae2c"
          }
        },
        "1c847c73d3dd4594b4763ff3e8a8f112": {
          "model_module": "@jupyter-widgets/controls",
          "model_name": "IntSliderModel",
          "state": {
            "_view_name": "IntSliderView",
            "style": "IPY_MODEL_ed27526808ad472991fbb598ca8b4444",
            "_dom_classes": [],
            "description": "min_samples_leaf",
            "step": 1,
            "_model_name": "IntSliderModel",
            "orientation": "horizontal",
            "max": 5,
            "_view_module": "@jupyter-widgets/controls",
            "_model_module_version": "1.5.0",
            "value": 1,
            "_view_count": null,
            "disabled": false,
            "_view_module_version": "1.5.0",
            "min": 1,
            "continuous_update": true,
            "readout_format": "d",
            "description_tooltip": null,
            "readout": true,
            "_model_module": "@jupyter-widgets/controls",
            "layout": "IPY_MODEL_f67aafbb1a1e478ebd0d5c9e6da219c0"
          }
        },
        "a4a13de1f08c4e0987ff8624bcda99cd": {
          "model_module": "@jupyter-widgets/output",
          "model_name": "OutputModel",
          "state": {
            "_view_name": "OutputView",
            "msg_id": "",
            "_dom_classes": [],
            "_model_name": "OutputModel",
            "outputs": [
              {
                "output_type": "display_data",
                "metadata": {
                  "tags": []
                },
                "text/plain": "<IPython.core.display.SVG object>",
                "image/svg+xml": "<svg height=\"195pt\" viewBox=\"0.00 0.00 280.00 195.00\" width=\"280pt\" xmlns=\"http://www.w3.org/2000/svg\" xmlns:xlink=\"http://www.w3.org/1999/xlink\">\n<g class=\"graph\" id=\"graph0\" transform=\"scale(1 1) rotate(0) translate(4 191)\">\n<title>Tree</title>\n<polygon fill=\"#ffffff\" points=\"-4,4 -4,-191 276,-191 276,4 -4,4\" stroke=\"transparent\"/>\n<!-- 0 -->\n<g class=\"node\" id=\"node1\">\n<title>0</title>\n<polygon fill=\"#ffffff\" points=\"202,-187 59,-187 59,-104 202,-104 202,-187\" stroke=\"#000000\"/>\n<text fill=\"#000000\" font-family=\"Times,serif\" font-size=\"14.00\" text-anchor=\"middle\" x=\"130.5\" y=\"-171.8\">PetalWidthCm &lt;= 0.8</text>\n<text fill=\"#000000\" font-family=\"Times,serif\" font-size=\"14.00\" text-anchor=\"middle\" x=\"130.5\" y=\"-156.8\">gini = 0.667</text>\n<text fill=\"#000000\" font-family=\"Times,serif\" font-size=\"14.00\" text-anchor=\"middle\" x=\"130.5\" y=\"-141.8\">samples = 150</text>\n<text fill=\"#000000\" font-family=\"Times,serif\" font-size=\"14.00\" text-anchor=\"middle\" x=\"130.5\" y=\"-126.8\">value = [50, 50, 50]</text>\n<text fill=\"#000000\" font-family=\"Times,serif\" font-size=\"14.00\" text-anchor=\"middle\" x=\"130.5\" y=\"-111.8\">class = Iris-setosa</text>\n</g>\n<!-- 1 -->\n<g class=\"node\" id=\"node2\">\n<title>1</title>\n<polygon fill=\"#e58139\" points=\"117,-68 0,-68 0,0 117,0 117,-68\" stroke=\"#000000\"/>\n<text fill=\"#000000\" font-family=\"Times,serif\" font-size=\"14.00\" text-anchor=\"middle\" x=\"58.5\" y=\"-52.8\">gini = 0.0</text>\n<text fill=\"#000000\" font-family=\"Times,serif\" font-size=\"14.00\" text-anchor=\"middle\" x=\"58.5\" y=\"-37.8\">samples = 50</text>\n<text fill=\"#000000\" font-family=\"Times,serif\" font-size=\"14.00\" text-anchor=\"middle\" x=\"58.5\" y=\"-22.8\">value = [50, 0, 0]</text>\n<text fill=\"#000000\" font-family=\"Times,serif\" font-size=\"14.00\" text-anchor=\"middle\" x=\"58.5\" y=\"-7.8\">class = Iris-setosa</text>\n</g>\n<!-- 0&#45;&gt;1 -->\n<g class=\"edge\" id=\"edge1\">\n<title>0-&gt;1</title>\n<path d=\"M103.6899,-103.9815C97.9331,-95.0666 91.8404,-85.6313 86.0559,-76.6734\" fill=\"none\" stroke=\"#000000\"/>\n<polygon fill=\"#000000\" points=\"88.9904,-74.7658 80.6254,-68.2637 83.1099,-78.5631 88.9904,-74.7658\" stroke=\"#000000\"/>\n<text fill=\"#000000\" font-family=\"Times,serif\" font-size=\"14.00\" text-anchor=\"middle\" x=\"75.3645\" y=\"-89.0039\">True</text>\n</g>\n<!-- 2 -->\n<g class=\"node\" id=\"node3\">\n<title>2</title>\n<polygon fill=\"#ffffff\" points=\"272,-68 135,-68 135,0 272,0 272,-68\" stroke=\"#000000\"/>\n<text fill=\"#000000\" font-family=\"Times,serif\" font-size=\"14.00\" text-anchor=\"middle\" x=\"203.5\" y=\"-52.8\">gini = 0.5</text>\n<text fill=\"#000000\" font-family=\"Times,serif\" font-size=\"14.00\" text-anchor=\"middle\" x=\"203.5\" y=\"-37.8\">samples = 100</text>\n<text fill=\"#000000\" font-family=\"Times,serif\" font-size=\"14.00\" text-anchor=\"middle\" x=\"203.5\" y=\"-22.8\">value = [0, 50, 50]</text>\n<text fill=\"#000000\" font-family=\"Times,serif\" font-size=\"14.00\" text-anchor=\"middle\" x=\"203.5\" y=\"-7.8\">class = Iris-versicolor</text>\n</g>\n<!-- 0&#45;&gt;2 -->\n<g class=\"edge\" id=\"edge2\">\n<title>0-&gt;2</title>\n<path d=\"M157.6825,-103.9815C163.5192,-95.0666 169.6966,-85.6313 175.5614,-76.6734\" fill=\"none\" stroke=\"#000000\"/>\n<polygon fill=\"#000000\" points=\"178.5179,-78.5472 181.0673,-68.2637 172.6614,-74.7129 178.5179,-78.5472\" stroke=\"#000000\"/>\n<text fill=\"#000000\" font-family=\"Times,serif\" font-size=\"14.00\" text-anchor=\"middle\" x=\"186.1741\" y=\"-89.0365\">False</text>\n</g>\n</g>\n</svg>"
              }
            ],
            "_view_module": "@jupyter-widgets/output",
            "_model_module_version": "1.0.0",
            "_view_count": null,
            "_view_module_version": "1.0.0",
            "layout": "IPY_MODEL_5c1b5a46f58b4c8eb89cefb6447b6fb6",
            "_model_module": "@jupyter-widgets/output"
          }
        },
        "22a9502c1fb646c2bd1f1ee052681513": {
          "model_module": "@jupyter-widgets/controls",
          "model_name": "DescriptionStyleModel",
          "state": {
            "_view_name": "StyleView",
            "_model_name": "DescriptionStyleModel",
            "description_width": "",
            "_view_module": "@jupyter-widgets/base",
            "_model_module_version": "1.5.0",
            "_view_count": null,
            "_view_module_version": "1.2.0",
            "_model_module": "@jupyter-widgets/controls"
          }
        },
        "d3826311566d44e8b18ee3dacddc630b": {
          "model_module": "@jupyter-widgets/base",
          "model_name": "LayoutModel",
          "state": {
            "_view_name": "LayoutView",
            "grid_template_rows": null,
            "right": null,
            "justify_content": null,
            "_view_module": "@jupyter-widgets/base",
            "overflow": null,
            "_model_module_version": "1.2.0",
            "_view_count": null,
            "flex_flow": null,
            "width": null,
            "min_width": null,
            "border": null,
            "align_items": null,
            "bottom": null,
            "_model_module": "@jupyter-widgets/base",
            "top": null,
            "grid_column": null,
            "overflow_y": null,
            "overflow_x": null,
            "grid_auto_flow": null,
            "grid_area": null,
            "grid_template_columns": null,
            "flex": null,
            "_model_name": "LayoutModel",
            "justify_items": null,
            "grid_row": null,
            "max_height": null,
            "align_content": null,
            "visibility": null,
            "align_self": null,
            "height": null,
            "min_height": null,
            "padding": null,
            "grid_auto_rows": null,
            "grid_gap": null,
            "max_width": null,
            "order": null,
            "_view_module_version": "1.2.0",
            "grid_template_areas": null,
            "object_position": null,
            "object_fit": null,
            "grid_auto_columns": null,
            "margin": null,
            "display": null,
            "left": null
          }
        },
        "d2bb75dcd0e44af6b2fbdcb9f52b0a5b": {
          "model_module": "@jupyter-widgets/controls",
          "model_name": "DescriptionStyleModel",
          "state": {
            "_view_name": "StyleView",
            "_model_name": "DescriptionStyleModel",
            "description_width": "",
            "_view_module": "@jupyter-widgets/base",
            "_model_module_version": "1.5.0",
            "_view_count": null,
            "_view_module_version": "1.2.0",
            "_model_module": "@jupyter-widgets/controls"
          }
        },
        "6f58c0ed1293432fb1bc083c50ec5dfc": {
          "model_module": "@jupyter-widgets/base",
          "model_name": "LayoutModel",
          "state": {
            "_view_name": "LayoutView",
            "grid_template_rows": null,
            "right": null,
            "justify_content": null,
            "_view_module": "@jupyter-widgets/base",
            "overflow": null,
            "_model_module_version": "1.2.0",
            "_view_count": null,
            "flex_flow": null,
            "width": null,
            "min_width": null,
            "border": null,
            "align_items": null,
            "bottom": null,
            "_model_module": "@jupyter-widgets/base",
            "top": null,
            "grid_column": null,
            "overflow_y": null,
            "overflow_x": null,
            "grid_auto_flow": null,
            "grid_area": null,
            "grid_template_columns": null,
            "flex": null,
            "_model_name": "LayoutModel",
            "justify_items": null,
            "grid_row": null,
            "max_height": null,
            "align_content": null,
            "visibility": null,
            "align_self": null,
            "height": null,
            "min_height": null,
            "padding": null,
            "grid_auto_rows": null,
            "grid_gap": null,
            "max_width": null,
            "order": null,
            "_view_module_version": "1.2.0",
            "grid_template_areas": null,
            "object_position": null,
            "object_fit": null,
            "grid_auto_columns": null,
            "margin": null,
            "display": null,
            "left": null
          }
        },
        "49b30643890344c6994369f6d651eabe": {
          "model_module": "@jupyter-widgets/controls",
          "model_name": "DescriptionStyleModel",
          "state": {
            "_view_name": "StyleView",
            "_model_name": "DescriptionStyleModel",
            "description_width": "",
            "_view_module": "@jupyter-widgets/base",
            "_model_module_version": "1.5.0",
            "_view_count": null,
            "_view_module_version": "1.2.0",
            "_model_module": "@jupyter-widgets/controls"
          }
        },
        "4e9b4f44def8433c819f9a7d12fbc6ff": {
          "model_module": "@jupyter-widgets/base",
          "model_name": "LayoutModel",
          "state": {
            "_view_name": "LayoutView",
            "grid_template_rows": null,
            "right": null,
            "justify_content": null,
            "_view_module": "@jupyter-widgets/base",
            "overflow": null,
            "_model_module_version": "1.2.0",
            "_view_count": null,
            "flex_flow": null,
            "width": null,
            "min_width": null,
            "border": null,
            "align_items": null,
            "bottom": null,
            "_model_module": "@jupyter-widgets/base",
            "top": null,
            "grid_column": null,
            "overflow_y": null,
            "overflow_x": null,
            "grid_auto_flow": null,
            "grid_area": null,
            "grid_template_columns": null,
            "flex": null,
            "_model_name": "LayoutModel",
            "justify_items": null,
            "grid_row": null,
            "max_height": null,
            "align_content": null,
            "visibility": null,
            "align_self": null,
            "height": null,
            "min_height": null,
            "padding": null,
            "grid_auto_rows": null,
            "grid_gap": null,
            "max_width": null,
            "order": null,
            "_view_module_version": "1.2.0",
            "grid_template_areas": null,
            "object_position": null,
            "object_fit": null,
            "grid_auto_columns": null,
            "margin": null,
            "display": null,
            "left": null
          }
        },
        "3aaf9fc044f8490e86c52a05bbfe90f6": {
          "model_module": "@jupyter-widgets/controls",
          "model_name": "SliderStyleModel",
          "state": {
            "_view_name": "StyleView",
            "handle_color": null,
            "_model_name": "SliderStyleModel",
            "description_width": "",
            "_view_module": "@jupyter-widgets/base",
            "_model_module_version": "1.5.0",
            "_view_count": null,
            "_view_module_version": "1.2.0",
            "_model_module": "@jupyter-widgets/controls"
          }
        },
        "35a7b7d419634f2cbc25c176f09aae2c": {
          "model_module": "@jupyter-widgets/base",
          "model_name": "LayoutModel",
          "state": {
            "_view_name": "LayoutView",
            "grid_template_rows": null,
            "right": null,
            "justify_content": null,
            "_view_module": "@jupyter-widgets/base",
            "overflow": null,
            "_model_module_version": "1.2.0",
            "_view_count": null,
            "flex_flow": null,
            "width": null,
            "min_width": null,
            "border": null,
            "align_items": null,
            "bottom": null,
            "_model_module": "@jupyter-widgets/base",
            "top": null,
            "grid_column": null,
            "overflow_y": null,
            "overflow_x": null,
            "grid_auto_flow": null,
            "grid_area": null,
            "grid_template_columns": null,
            "flex": null,
            "_model_name": "LayoutModel",
            "justify_items": null,
            "grid_row": null,
            "max_height": null,
            "align_content": null,
            "visibility": null,
            "align_self": null,
            "height": null,
            "min_height": null,
            "padding": null,
            "grid_auto_rows": null,
            "grid_gap": null,
            "max_width": null,
            "order": null,
            "_view_module_version": "1.2.0",
            "grid_template_areas": null,
            "object_position": null,
            "object_fit": null,
            "grid_auto_columns": null,
            "margin": null,
            "display": null,
            "left": null
          }
        },
        "ed27526808ad472991fbb598ca8b4444": {
          "model_module": "@jupyter-widgets/controls",
          "model_name": "SliderStyleModel",
          "state": {
            "_view_name": "StyleView",
            "handle_color": null,
            "_model_name": "SliderStyleModel",
            "description_width": "",
            "_view_module": "@jupyter-widgets/base",
            "_model_module_version": "1.5.0",
            "_view_count": null,
            "_view_module_version": "1.2.0",
            "_model_module": "@jupyter-widgets/controls"
          }
        },
        "f67aafbb1a1e478ebd0d5c9e6da219c0": {
          "model_module": "@jupyter-widgets/base",
          "model_name": "LayoutModel",
          "state": {
            "_view_name": "LayoutView",
            "grid_template_rows": null,
            "right": null,
            "justify_content": null,
            "_view_module": "@jupyter-widgets/base",
            "overflow": null,
            "_model_module_version": "1.2.0",
            "_view_count": null,
            "flex_flow": null,
            "width": null,
            "min_width": null,
            "border": null,
            "align_items": null,
            "bottom": null,
            "_model_module": "@jupyter-widgets/base",
            "top": null,
            "grid_column": null,
            "overflow_y": null,
            "overflow_x": null,
            "grid_auto_flow": null,
            "grid_area": null,
            "grid_template_columns": null,
            "flex": null,
            "_model_name": "LayoutModel",
            "justify_items": null,
            "grid_row": null,
            "max_height": null,
            "align_content": null,
            "visibility": null,
            "align_self": null,
            "height": null,
            "min_height": null,
            "padding": null,
            "grid_auto_rows": null,
            "grid_gap": null,
            "max_width": null,
            "order": null,
            "_view_module_version": "1.2.0",
            "grid_template_areas": null,
            "object_position": null,
            "object_fit": null,
            "grid_auto_columns": null,
            "margin": null,
            "display": null,
            "left": null
          }
        },
        "5c1b5a46f58b4c8eb89cefb6447b6fb6": {
          "model_module": "@jupyter-widgets/base",
          "model_name": "LayoutModel",
          "state": {
            "_view_name": "LayoutView",
            "grid_template_rows": null,
            "right": null,
            "justify_content": null,
            "_view_module": "@jupyter-widgets/base",
            "overflow": null,
            "_model_module_version": "1.2.0",
            "_view_count": null,
            "flex_flow": null,
            "width": null,
            "min_width": null,
            "border": null,
            "align_items": null,
            "bottom": null,
            "_model_module": "@jupyter-widgets/base",
            "top": null,
            "grid_column": null,
            "overflow_y": null,
            "overflow_x": null,
            "grid_auto_flow": null,
            "grid_area": null,
            "grid_template_columns": null,
            "flex": null,
            "_model_name": "LayoutModel",
            "justify_items": null,
            "grid_row": null,
            "max_height": null,
            "align_content": null,
            "visibility": null,
            "align_self": null,
            "height": null,
            "min_height": null,
            "padding": null,
            "grid_auto_rows": null,
            "grid_gap": null,
            "max_width": null,
            "order": null,
            "_view_module_version": "1.2.0",
            "grid_template_areas": null,
            "object_position": null,
            "object_fit": null,
            "grid_auto_columns": null,
            "margin": null,
            "display": null,
            "left": null
          }
        }
      }
    }
  },
  "cells": [
    {
      "cell_type": "markdown",
      "metadata": {
        "id": "view-in-github",
        "colab_type": "text"
      },
      "source": [
        "<a href=\"https://colab.research.google.com/github/Beatriz-Paes/Projeto-P-D-UEA-IA/blob/main/projeto_uea_ia.ipynb\" target=\"_parent\"><img src=\"https://colab.research.google.com/assets/colab-badge.svg\" alt=\"Open In Colab\"/></a>"
      ]
    },
    {
      "cell_type": "markdown",
      "metadata": {
        "id": "3AY_F8jPxvY_"
      },
      "source": [
        "# Machine Learning"
      ]
    },
    {
      "cell_type": "code",
      "metadata": {
        "id": "uwysQFnXkEp6"
      },
      "source": [
        "import numpy as np\n",
        "import pandas as pd\n",
        "\n",
        "import matplotlib.pyplot as plt\n",
        "import pydot\n",
        "import graphviz\n",
        "from mlxtend.plotting import plot_decision_regions\n",
        "\n",
        "from sklearn.model_selection import train_test_split\n",
        "from sklearn.tree import DecisionTreeClassifier, export_graphviz\n",
        "from sklearn import metrics\n",
        "\n",
        "from ipywidgets import interactive\n",
        "from IPython.display import SVG, display\n",
        "from graphviz import Source"
      ],
      "execution_count": 28,
      "outputs": []
    },
    {
      "cell_type": "markdown",
      "metadata": {
        "id": "-NszQW5eR4uo"
      },
      "source": [
        "### Importação e Leitura dos dados"
      ]
    },
    {
      "cell_type": "code",
      "metadata": {
        "id": "Vr_cqGmlkUMX",
        "colab": {
          "base_uri": "https://localhost:8080/",
          "height": 191
        },
        "outputId": "709088d1-f19f-4e05-9fa2-a8c0b96cc9b8"
      },
      "source": [
        "uri = \"http://archive.ics.uci.edu/ml/machine-learning-databases/iris/iris.data\"\n",
        "iris = pd.read_csv(uri, names=[\"SepalLengthCm\", \"SepalWidthCm\", \"PetalLengthCm\", \"PetalWidthCm\", \"Class\"])\n",
        "\n",
        "iris.head()"
      ],
      "execution_count": 29,
      "outputs": [
        {
          "output_type": "execute_result",
          "data": {
            "text/html": [
              "<div>\n",
              "<style scoped>\n",
              "    .dataframe tbody tr th:only-of-type {\n",
              "        vertical-align: middle;\n",
              "    }\n",
              "\n",
              "    .dataframe tbody tr th {\n",
              "        vertical-align: top;\n",
              "    }\n",
              "\n",
              "    .dataframe thead th {\n",
              "        text-align: right;\n",
              "    }\n",
              "</style>\n",
              "<table border=\"1\" class=\"dataframe\">\n",
              "  <thead>\n",
              "    <tr style=\"text-align: right;\">\n",
              "      <th></th>\n",
              "      <th>SepalLengthCm</th>\n",
              "      <th>SepalWidthCm</th>\n",
              "      <th>PetalLengthCm</th>\n",
              "      <th>PetalWidthCm</th>\n",
              "      <th>Class</th>\n",
              "    </tr>\n",
              "  </thead>\n",
              "  <tbody>\n",
              "    <tr>\n",
              "      <th>0</th>\n",
              "      <td>5.1</td>\n",
              "      <td>3.5</td>\n",
              "      <td>1.4</td>\n",
              "      <td>0.2</td>\n",
              "      <td>Iris-setosa</td>\n",
              "    </tr>\n",
              "    <tr>\n",
              "      <th>1</th>\n",
              "      <td>4.9</td>\n",
              "      <td>3.0</td>\n",
              "      <td>1.4</td>\n",
              "      <td>0.2</td>\n",
              "      <td>Iris-setosa</td>\n",
              "    </tr>\n",
              "    <tr>\n",
              "      <th>2</th>\n",
              "      <td>4.7</td>\n",
              "      <td>3.2</td>\n",
              "      <td>1.3</td>\n",
              "      <td>0.2</td>\n",
              "      <td>Iris-setosa</td>\n",
              "    </tr>\n",
              "    <tr>\n",
              "      <th>3</th>\n",
              "      <td>4.6</td>\n",
              "      <td>3.1</td>\n",
              "      <td>1.5</td>\n",
              "      <td>0.2</td>\n",
              "      <td>Iris-setosa</td>\n",
              "    </tr>\n",
              "    <tr>\n",
              "      <th>4</th>\n",
              "      <td>5.0</td>\n",
              "      <td>3.6</td>\n",
              "      <td>1.4</td>\n",
              "      <td>0.2</td>\n",
              "      <td>Iris-setosa</td>\n",
              "    </tr>\n",
              "  </tbody>\n",
              "</table>\n",
              "</div>"
            ],
            "text/plain": [
              "   SepalLengthCm  SepalWidthCm  PetalLengthCm  PetalWidthCm        Class\n",
              "0            5.1           3.5            1.4           0.2  Iris-setosa\n",
              "1            4.9           3.0            1.4           0.2  Iris-setosa\n",
              "2            4.7           3.2            1.3           0.2  Iris-setosa\n",
              "3            4.6           3.1            1.5           0.2  Iris-setosa\n",
              "4            5.0           3.6            1.4           0.2  Iris-setosa"
            ]
          },
          "metadata": {
            "tags": []
          },
          "execution_count": 29
        }
      ]
    },
    {
      "cell_type": "markdown",
      "metadata": {
        "id": "ZNpbrEuvqJZa"
      },
      "source": [
        "### Breve análise para compreender o conjunto de dados"
      ]
    },
    {
      "cell_type": "code",
      "metadata": {
        "id": "-b49CmcFklQu",
        "colab": {
          "base_uri": "https://localhost:8080/",
          "height": 537
        },
        "outputId": "4afabff5-2add-44e5-8a93-c1ff2b043217"
      },
      "source": [
        "print(\"INFORMAÇÕES DO DATASET:\")\n",
        "iris.info()\n",
        "\n",
        "print(\"___________________________________________________________________\")\n",
        "print()\n",
        "\n",
        "print(\"DESCRIÇÃO DO DATASET:\")\n",
        "iris.describe()"
      ],
      "execution_count": 30,
      "outputs": [
        {
          "output_type": "stream",
          "text": [
            "INFORMAÇÕES DO DATASET:\n",
            "<class 'pandas.core.frame.DataFrame'>\n",
            "RangeIndex: 150 entries, 0 to 149\n",
            "Data columns (total 5 columns):\n",
            " #   Column         Non-Null Count  Dtype  \n",
            "---  ------         --------------  -----  \n",
            " 0   SepalLengthCm  150 non-null    float64\n",
            " 1   SepalWidthCm   150 non-null    float64\n",
            " 2   PetalLengthCm  150 non-null    float64\n",
            " 3   PetalWidthCm   150 non-null    float64\n",
            " 4   Class          150 non-null    object \n",
            "dtypes: float64(4), object(1)\n",
            "memory usage: 6.0+ KB\n",
            "___________________________________________________________________\n",
            "\n",
            "DESCRIÇÃO DO DATASET:\n"
          ],
          "name": "stdout"
        },
        {
          "output_type": "execute_result",
          "data": {
            "text/html": [
              "<div>\n",
              "<style scoped>\n",
              "    .dataframe tbody tr th:only-of-type {\n",
              "        vertical-align: middle;\n",
              "    }\n",
              "\n",
              "    .dataframe tbody tr th {\n",
              "        vertical-align: top;\n",
              "    }\n",
              "\n",
              "    .dataframe thead th {\n",
              "        text-align: right;\n",
              "    }\n",
              "</style>\n",
              "<table border=\"1\" class=\"dataframe\">\n",
              "  <thead>\n",
              "    <tr style=\"text-align: right;\">\n",
              "      <th></th>\n",
              "      <th>SepalLengthCm</th>\n",
              "      <th>SepalWidthCm</th>\n",
              "      <th>PetalLengthCm</th>\n",
              "      <th>PetalWidthCm</th>\n",
              "    </tr>\n",
              "  </thead>\n",
              "  <tbody>\n",
              "    <tr>\n",
              "      <th>count</th>\n",
              "      <td>150.000000</td>\n",
              "      <td>150.000000</td>\n",
              "      <td>150.000000</td>\n",
              "      <td>150.000000</td>\n",
              "    </tr>\n",
              "    <tr>\n",
              "      <th>mean</th>\n",
              "      <td>5.843333</td>\n",
              "      <td>3.054000</td>\n",
              "      <td>3.758667</td>\n",
              "      <td>1.198667</td>\n",
              "    </tr>\n",
              "    <tr>\n",
              "      <th>std</th>\n",
              "      <td>0.828066</td>\n",
              "      <td>0.433594</td>\n",
              "      <td>1.764420</td>\n",
              "      <td>0.763161</td>\n",
              "    </tr>\n",
              "    <tr>\n",
              "      <th>min</th>\n",
              "      <td>4.300000</td>\n",
              "      <td>2.000000</td>\n",
              "      <td>1.000000</td>\n",
              "      <td>0.100000</td>\n",
              "    </tr>\n",
              "    <tr>\n",
              "      <th>25%</th>\n",
              "      <td>5.100000</td>\n",
              "      <td>2.800000</td>\n",
              "      <td>1.600000</td>\n",
              "      <td>0.300000</td>\n",
              "    </tr>\n",
              "    <tr>\n",
              "      <th>50%</th>\n",
              "      <td>5.800000</td>\n",
              "      <td>3.000000</td>\n",
              "      <td>4.350000</td>\n",
              "      <td>1.300000</td>\n",
              "    </tr>\n",
              "    <tr>\n",
              "      <th>75%</th>\n",
              "      <td>6.400000</td>\n",
              "      <td>3.300000</td>\n",
              "      <td>5.100000</td>\n",
              "      <td>1.800000</td>\n",
              "    </tr>\n",
              "    <tr>\n",
              "      <th>max</th>\n",
              "      <td>7.900000</td>\n",
              "      <td>4.400000</td>\n",
              "      <td>6.900000</td>\n",
              "      <td>2.500000</td>\n",
              "    </tr>\n",
              "  </tbody>\n",
              "</table>\n",
              "</div>"
            ],
            "text/plain": [
              "       SepalLengthCm  SepalWidthCm  PetalLengthCm  PetalWidthCm\n",
              "count     150.000000    150.000000     150.000000    150.000000\n",
              "mean        5.843333      3.054000       3.758667      1.198667\n",
              "std         0.828066      0.433594       1.764420      0.763161\n",
              "min         4.300000      2.000000       1.000000      0.100000\n",
              "25%         5.100000      2.800000       1.600000      0.300000\n",
              "50%         5.800000      3.000000       4.350000      1.300000\n",
              "75%         6.400000      3.300000       5.100000      1.800000\n",
              "max         7.900000      4.400000       6.900000      2.500000"
            ]
          },
          "metadata": {
            "tags": []
          },
          "execution_count": 30
        }
      ]
    },
    {
      "cell_type": "code",
      "metadata": {
        "colab": {
          "base_uri": "https://localhost:8080/"
        },
        "id": "70XTgrTDqwiI",
        "outputId": "c46a3778-6947-4b7d-acce-480f4e1fed0f"
      },
      "source": [
        "print(\"DISTRIBUIÇÃO DAS ESPÉCIES DE IRIS:\")\n",
        "iris.groupby('Class').size()"
      ],
      "execution_count": 31,
      "outputs": [
        {
          "output_type": "stream",
          "text": [
            "DISTRIBUIÇÃO DAS ESPÉCIES DE IRIS:\n"
          ],
          "name": "stdout"
        },
        {
          "output_type": "execute_result",
          "data": {
            "text/plain": [
              "Class\n",
              "Iris-setosa        50\n",
              "Iris-versicolor    50\n",
              "Iris-virginica     50\n",
              "dtype: int64"
            ]
          },
          "metadata": {
            "tags": []
          },
          "execution_count": 31
        }
      ]
    },
    {
      "cell_type": "markdown",
      "metadata": {
        "id": "yQqQhRcnqdrl"
      },
      "source": [
        "### Análise visual dos dados"
      ]
    },
    {
      "cell_type": "code",
      "metadata": {
        "colab": {
          "base_uri": "https://localhost:8080/",
          "height": 295
        },
        "id": "EgT1buKOrHpa",
        "outputId": "28973d20-6018-4472-e0dc-c437a505e6c9"
      },
      "source": [
        "fig = iris[iris.Class == 'Iris-setosa'].plot(kind='scatter', x='SepalLengthCm', y='SepalWidthCm', color=\"blue\", label=\"Setosa\")\n",
        "iris[iris.Class == 'Iris-versicolor'].plot(kind='scatter', x='SepalLengthCm', y='SepalWidthCm', color='green', label='Versicolor', ax=fig)\n",
        "iris[iris.Class == 'Iris-virginica'].plot(kind='scatter', x='SepalLengthCm', y='SepalWidthCm', color='red', label='Virginica', ax=fig)\n",
        "\n",
        "fig.set_xlabel('Sepal - Length')\n",
        "fig.set_ylabel('Sepal - Width')\n",
        "fig.set_title('Sepal - Length vs Width')\n",
        "\n",
        "plt.show()"
      ],
      "execution_count": 32,
      "outputs": [
        {
          "output_type": "display_data",
          "data": {
            "image/png": "[encoded data removed]",
            "text/plain": [
              "<Figure size 432x288 with 1 Axes>"
            ]
          },
          "metadata": {
            "tags": [],
            "needs_background": "light"
          }
        }
      ]
    },
    {
      "cell_type": "code",
      "metadata": {
        "colab": {
          "base_uri": "https://localhost:8080/",
          "height": 295
        },
        "id": "I595v_yGIpcJ",
        "outputId": "b7845753-2b59-4c44-d969-04cbc15dd228"
      },
      "source": [
        "fig = iris[iris.Class == 'Iris-setosa'].plot(kind='scatter', x='PetalLengthCm', y='PetalWidthCm', color=\"blue\", label=\"Setosa\")\n",
        "iris[iris.Class == 'Iris-versicolor'].plot(kind='scatter', x='PetalLengthCm', y='PetalWidthCm', color='green', label='Versicolor', ax=fig)\n",
        "iris[iris.Class == 'Iris-virginica'].plot(kind='scatter', x='PetalLengthCm', y='PetalWidthCm', color='red', label='Virginica', ax=fig)\n",
        "\n",
        "fig.set_xlabel('Petal - Length')\n",
        "fig.set_ylabel('Petal - Width')\n",
        "fig.set_title('Petal - Length vs Width')\n",
        "\n",
        "plt.show()"
      ],
      "execution_count": 33,
      "outputs": [
        {
          "output_type": "display_data",
          "data": {
            "image/png": "[encoded data removed]",
            "text/plain": [
              "<Figure size 432x288 with 1 Axes>"
            ]
          },
          "metadata": {
            "tags": [],
            "needs_background": "light"
          }
        }
      ]
    },
    {
      "cell_type": "markdown",
      "metadata": {
        "id": "cWqs8oO7rRl8"
      },
      "source": [
        "## Classificador - Modelo 1 - Todo o Conjunto de dados"
      ]
    },
    {
      "cell_type": "markdown",
      "metadata": {
        "id": "6S93bfU8r2n9"
      },
      "source": [
        "### Separando os dados e aplicando o algoritmo (DecisionTreeClassifier)"
      ]
    },
    {
      "cell_type": "code",
      "metadata": {
        "id": "gpJX7NkBUAfo",
        "colab": {
          "base_uri": "https://localhost:8080/"
        },
        "outputId": "ef2926b5-ad1b-482f-a555-d4777086c4ba"
      },
      "source": [
        "# Separação dos dados, onde x são as características e y o nosso alvo, neste caso a coluna Class\n",
        "x = np.array(iris.drop(['Class'], 1))\n",
        "y = np.array(iris['Class'])\n",
        "\n",
        "# Separação dos dados de treinamento e teste\n",
        "x_train, x_test, y_train, y_test = train_test_split(x, y, test_size=0.2)\n",
        "\n",
        "print(f'São {x_train.shape[0]} dados para treinamento e {y_test.shape[0]} dados para teste.')"
      ],
      "execution_count": 34,
      "outputs": [
        {
          "output_type": "stream",
          "text": [
            "São 120 dados para treinamento e 30 dados para teste.\n"
          ],
          "name": "stdout"
        }
      ]
    },
    {
      "cell_type": "code",
      "metadata": {
        "colab": {
          "base_uri": "https://localhost:8080/"
        },
        "id": "a5HjzzecayRD",
        "outputId": "6a2d5ab2-0ec8-42ee-e983-03e402a0dc2b"
      },
      "source": [
        "# Aplicando o algoritmo de aprendizagem de máquina, instanciando, treinando e fazendo uma previsão\n",
        "algoritmo = DecisionTreeClassifier()\n",
        "algoritmo = algoritmo.fit(x_train, y_train)\n",
        "y_pred = algoritmo.predict(x_test)\n",
        "\n",
        "print(y_pred)"
      ],
      "execution_count": 35,
      "outputs": [
        {
          "output_type": "stream",
          "text": [
            "['Iris-setosa' 'Iris-versicolor' 'Iris-setosa' 'Iris-virginica'\n",
            " 'Iris-setosa' 'Iris-setosa' 'Iris-setosa' 'Iris-versicolor'\n",
            " 'Iris-virginica' 'Iris-versicolor' 'Iris-versicolor' 'Iris-virginica'\n",
            " 'Iris-setosa' 'Iris-setosa' 'Iris-versicolor' 'Iris-virginica'\n",
            " 'Iris-virginica' 'Iris-virginica' 'Iris-virginica' 'Iris-virginica'\n",
            " 'Iris-versicolor' 'Iris-versicolor' 'Iris-virginica' 'Iris-virginica'\n",
            " 'Iris-setosa' 'Iris-setosa' 'Iris-versicolor' 'Iris-setosa'\n",
            " 'Iris-versicolor' 'Iris-setosa']\n"
          ],
          "name": "stdout"
        }
      ]
    },
    {
      "cell_type": "markdown",
      "metadata": {
        "id": "LkUWpv4OtAyU"
      },
      "source": [
        "### Análisando a performance do algoritmo"
      ]
    },
    {
      "cell_type": "code",
      "metadata": {
        "colab": {
          "base_uri": "https://localhost:8080/"
        },
        "id": "4X3p7bzes5EE",
        "outputId": "7ccaa88b-852a-4684-fa7b-014a5df63727"
      },
      "source": [
        "# Calculando a precisão do algoritmo\n",
        "print(f'Precisão do modelo: {algoritmo.score(x_train, y_train) * 100}')"
      ],
      "execution_count": 36,
      "outputs": [
        {
          "output_type": "stream",
          "text": [
            "Precisão do modelo: 100.0\n"
          ],
          "name": "stdout"
        }
      ]
    },
    {
      "cell_type": "code",
      "metadata": {
        "colab": {
          "base_uri": "https://localhost:8080/"
        },
        "id": "6xcnTm-JKHtg",
        "outputId": "88140fc9-4a9b-4be6-b4ad-99a898eb0daf"
      },
      "source": [
        "# Importância de cada característica para o modelo treinado\n",
        "for feature, importance in zip(iris.columns, algoritmo.feature_importances_):\n",
        "  print(f'{feature}: {importance}')"
      ],
      "execution_count": 37,
      "outputs": [
        {
          "output_type": "stream",
          "text": [
            "SepalLengthCm: 0.0\n",
            "SepalWidthCm: 0.01875390706397166\n",
            "PetalLengthCm: 0.5825299672521005\n",
            "PetalWidthCm: 0.3987161256839277\n"
          ],
          "name": "stdout"
        }
      ]
    },
    {
      "cell_type": "code",
      "metadata": {
        "colab": {
          "base_uri": "https://localhost:8080/"
        },
        "id": "8xikRmEBsKUf",
        "outputId": "d6cc9c6d-8b47-4f30-a647-9e19cacaf076"
      },
      "source": [
        "# Algumas métricas\n",
        "print(metrics.classification_report(y_test, y_pred))"
      ],
      "execution_count": 38,
      "outputs": [
        {
          "output_type": "stream",
          "text": [
            "                 precision    recall  f1-score   support\n",
            "\n",
            "    Iris-setosa       1.00      1.00      1.00        11\n",
            "Iris-versicolor       1.00      0.90      0.95        10\n",
            " Iris-virginica       0.90      1.00      0.95         9\n",
            "\n",
            "       accuracy                           0.97        30\n",
            "      macro avg       0.97      0.97      0.96        30\n",
            "   weighted avg       0.97      0.97      0.97        30\n",
            "\n"
          ],
          "name": "stdout"
        }
      ]
    },
    {
      "cell_type": "markdown",
      "metadata": {
        "id": "Kgl7QMcBthgm"
      },
      "source": [
        "### Renderizando a árvore graficamente"
      ]
    },
    {
      "cell_type": "code",
      "metadata": {
        "colab": {
          "base_uri": "https://localhost:8080/",
          "height": 1000
        },
        "id": "_IXm5N8etOxK",
        "outputId": "9185f640-e644-4b61-b91c-1dd32ac17361"
      },
      "source": [
        "# Renderizando a árvore de forma gráfica (Sem parâmetros)\n",
        "dot_data = export_graphviz(algoritmo, out_file=None, feature_names=iris.drop(\n",
        "    'Class', axis=1).columns,\n",
        "    class_names=['Iris-setosa', 'Iris-versicolor', 'Iris-virginica'],\n",
        "    filled=True, rounded=True, proportion=True, node_ids=True, rotate=False,\n",
        "    label='all', special_characters=True)\n",
        "\n",
        "graph = graphviz.Source(dot_data)\n",
        "graph"
      ],
      "execution_count": 39,
      "outputs": [
        {
          "output_type": "execute_result",
          "data": {
            "text/plain": [
              "<graphviz.files.Source at 0x7fbba8e785c0>"
            ],
            "image/svg+xml": "<?xml version=\"1.0\" encoding=\"UTF-8\" standalone=\"no\"?>\n<!DOCTYPE svg PUBLIC \"-//W3C//DTD SVG 1.1//EN\"\n \"http://www.w3.org/Graphics/SVG/1.1/DTD/svg11.dtd\">\n<!-- Generated by graphviz version 2.40.1 (20161225.0304)\n -->\n<!-- Title: Tree Pages: 1 -->\n<svg width=\"700pt\" height=\"761pt\"\n viewBox=\"0.00 0.00 700.00 761.00\" xmlns=\"http://www.w3.org/2000/svg\" xmlns:xlink=\"http://www.w3.org/1999/xlink\">\n<g id=\"graph0\" class=\"graph\" transform=\"scale(1 1) rotate(0) translate(4 757)\">\n<title>Tree</title>\n<polygon fill=\"#ffffff\" stroke=\"transparent\" points=\"-4,4 -4,-757 696,-757 696,4 -4,4\"/>\n<!-- 0 -->\n<g id=\"node1\" class=\"node\">\n<title>0</title>\n<path fill=\"#fdfdff\" stroke=\"#000000\" d=\"M335.5,-753C335.5,-753 159.5,-753 159.5,-753 153.5,-753 147.5,-747 147.5,-741 147.5,-741 147.5,-667 147.5,-667 147.5,-661 153.5,-655 159.5,-655 159.5,-655 335.5,-655 335.5,-655 341.5,-655 347.5,-661 347.5,-667 347.5,-667 347.5,-741 347.5,-741 347.5,-747 341.5,-753 335.5,-753\"/>\n<text text-anchor=\"start\" x=\"220.5\" y=\"-737.8\" font-family=\"Helvetica,sans-Serif\" font-size=\"14.00\" fill=\"#000000\">node #0</text>\n<text text-anchor=\"start\" x=\"175\" y=\"-722.8\" font-family=\"Helvetica,sans-Serif\" font-size=\"14.00\" fill=\"#000000\">PetalLengthCm ≤ 2.45</text>\n<text text-anchor=\"start\" x=\"209.5\" y=\"-707.8\" font-family=\"Helvetica,sans-Serif\" font-size=\"14.00\" fill=\"#000000\">gini = 0.667</text>\n<text text-anchor=\"start\" x=\"187\" y=\"-692.8\" font-family=\"Helvetica,sans-Serif\" font-size=\"14.00\" fill=\"#000000\">samples = 100.0%</text>\n<text text-anchor=\"start\" x=\"155.5\" y=\"-677.8\" font-family=\"Helvetica,sans-Serif\" font-size=\"14.00\" fill=\"#000000\">value = [0.325, 0.333, 0.342]</text>\n<text text-anchor=\"start\" x=\"184\" y=\"-662.8\" font-family=\"Helvetica,sans-Serif\" font-size=\"14.00\" fill=\"#000000\">class = Iris&#45;virginica</text>\n</g>\n<!-- 1 -->\n<g id=\"node2\" class=\"node\">\n<title>1</title>\n<path fill=\"#e58139\" stroke=\"#000000\" d=\"M218,-611.5C218,-611.5 91,-611.5 91,-611.5 85,-611.5 79,-605.5 79,-599.5 79,-599.5 79,-540.5 79,-540.5 79,-534.5 85,-528.5 91,-528.5 91,-528.5 218,-528.5 218,-528.5 224,-528.5 230,-534.5 230,-540.5 230,-540.5 230,-599.5 230,-599.5 230,-605.5 224,-611.5 218,-611.5\"/>\n<text text-anchor=\"start\" x=\"127.5\" y=\"-596.3\" font-family=\"Helvetica,sans-Serif\" font-size=\"14.00\" fill=\"#000000\">node #1</text>\n<text text-anchor=\"start\" x=\"125\" y=\"-581.3\" font-family=\"Helvetica,sans-Serif\" font-size=\"14.00\" fill=\"#000000\">gini = 0.0</text>\n<text text-anchor=\"start\" x=\"98.5\" y=\"-566.3\" font-family=\"Helvetica,sans-Serif\" font-size=\"14.00\" fill=\"#000000\">samples = 32.5%</text>\n<text text-anchor=\"start\" x=\"87\" y=\"-551.3\" font-family=\"Helvetica,sans-Serif\" font-size=\"14.00\" fill=\"#000000\">value = [1.0, 0.0, 0.0]</text>\n<text text-anchor=\"start\" x=\"96\" y=\"-536.3\" font-family=\"Helvetica,sans-Serif\" font-size=\"14.00\" fill=\"#000000\">class = Iris&#45;setosa</text>\n</g>\n<!-- 0&#45;&gt;1 -->\n<g id=\"edge1\" class=\"edge\">\n<title>0&#45;&gt;1</title>\n<path fill=\"none\" stroke=\"#000000\" d=\"M213.3983,-654.8642C205.5494,-643.555 197.192,-631.5133 189.3133,-620.1612\"/>\n<polygon fill=\"#000000\" stroke=\"#000000\" points=\"191.9752,-617.8579 183.3981,-611.6381 186.2245,-621.849 191.9752,-617.8579\"/>\n<text text-anchor=\"middle\" x=\"178.9546\" y=\"-632.5401\" font-family=\"Helvetica,sans-Serif\" font-size=\"14.00\" fill=\"#000000\">True</text>\n</g>\n<!-- 2 -->\n<g id=\"node3\" class=\"node\">\n<title>2</title>\n<path fill=\"#fcfafe\" stroke=\"#000000\" d=\"M420.5,-619C420.5,-619 260.5,-619 260.5,-619 254.5,-619 248.5,-613 248.5,-607 248.5,-607 248.5,-533 248.5,-533 248.5,-527 254.5,-521 260.5,-521 260.5,-521 420.5,-521 420.5,-521 426.5,-521 432.5,-527 432.5,-533 432.5,-533 432.5,-607 432.5,-607 432.5,-613 426.5,-619 420.5,-619\"/>\n<text text-anchor=\"start\" x=\"313.5\" y=\"-603.8\" font-family=\"Helvetica,sans-Serif\" font-size=\"14.00\" fill=\"#000000\">node #2</text>\n<text text-anchor=\"start\" x=\"272.5\" y=\"-588.8\" font-family=\"Helvetica,sans-Serif\" font-size=\"14.00\" fill=\"#000000\">PetalWidthCm ≤ 1.65</text>\n<text text-anchor=\"start\" x=\"311\" y=\"-573.8\" font-family=\"Helvetica,sans-Serif\" font-size=\"14.00\" fill=\"#000000\">gini = 0.5</text>\n<text text-anchor=\"start\" x=\"284.5\" y=\"-558.8\" font-family=\"Helvetica,sans-Serif\" font-size=\"14.00\" fill=\"#000000\">samples = 67.5%</text>\n<text text-anchor=\"start\" x=\"256.5\" y=\"-543.8\" font-family=\"Helvetica,sans-Serif\" font-size=\"14.00\" fill=\"#000000\">value = [0.0, 0.494, 0.506]</text>\n<text text-anchor=\"start\" x=\"277\" y=\"-528.8\" font-family=\"Helvetica,sans-Serif\" font-size=\"14.00\" fill=\"#000000\">class = Iris&#45;virginica</text>\n</g>\n<!-- 0&#45;&gt;2 -->\n<g id=\"edge2\" class=\"edge\">\n<title>0&#45;&gt;2</title>\n<path fill=\"none\" stroke=\"#000000\" d=\"M281.6017,-654.8642C287.7933,-645.9429 294.3014,-636.5657 300.6413,-627.4309\"/>\n<polygon fill=\"#000000\" stroke=\"#000000\" points=\"303.5761,-629.3407 306.4024,-619.1298 297.8254,-625.3495 303.5761,-629.3407\"/>\n<text text-anchor=\"middle\" x=\"310.846\" y=\"-640.0318\" font-family=\"Helvetica,sans-Serif\" font-size=\"14.00\" fill=\"#000000\">False</text>\n</g>\n<!-- 3 -->\n<g id=\"node4\" class=\"node\">\n<title>3</title>\n<path fill=\"#4de88e\" stroke=\"#000000\" d=\"M319.5,-485C319.5,-485 159.5,-485 159.5,-485 153.5,-485 147.5,-479 147.5,-473 147.5,-473 147.5,-399 147.5,-399 147.5,-393 153.5,-387 159.5,-387 159.5,-387 319.5,-387 319.5,-387 325.5,-387 331.5,-393 331.5,-399 331.5,-399 331.5,-473 331.5,-473 331.5,-479 325.5,-485 319.5,-485\"/>\n<text text-anchor=\"start\" x=\"212.5\" y=\"-469.8\" font-family=\"Helvetica,sans-Serif\" font-size=\"14.00\" fill=\"#000000\">node #3</text>\n<text text-anchor=\"start\" x=\"167\" y=\"-454.8\" font-family=\"Helvetica,sans-Serif\" font-size=\"14.00\" fill=\"#000000\">PetalLengthCm ≤ 4.95</text>\n<text text-anchor=\"start\" x=\"201.5\" y=\"-439.8\" font-family=\"Helvetica,sans-Serif\" font-size=\"14.00\" fill=\"#000000\">gini = 0.169</text>\n<text text-anchor=\"start\" x=\"183.5\" y=\"-424.8\" font-family=\"Helvetica,sans-Serif\" font-size=\"14.00\" fill=\"#000000\">samples = 35.8%</text>\n<text text-anchor=\"start\" x=\"155.5\" y=\"-409.8\" font-family=\"Helvetica,sans-Serif\" font-size=\"14.00\" fill=\"#000000\">value = [0.0, 0.907, 0.093]</text>\n<text text-anchor=\"start\" x=\"171.5\" y=\"-394.8\" font-family=\"Helvetica,sans-Serif\" font-size=\"14.00\" fill=\"#000000\">class = Iris&#45;versicolor</text>\n</g>\n<!-- 2&#45;&gt;3 -->\n<g id=\"edge3\" class=\"edge\">\n<title>2&#45;&gt;3</title>\n<path fill=\"none\" stroke=\"#000000\" d=\"M303.4648,-520.8642C296.6719,-511.8519 289.5284,-502.3743 282.5767,-493.1513\"/>\n<polygon fill=\"#000000\" stroke=\"#000000\" points=\"285.3448,-491.0088 276.5307,-485.1298 279.7548,-495.2222 285.3448,-491.0088\"/>\n</g>\n<!-- 10 -->\n<g id=\"node11\" class=\"node\">\n<title>10</title>\n<path fill=\"#843ee6\" stroke=\"#000000\" d=\"M521.5,-485C521.5,-485 361.5,-485 361.5,-485 355.5,-485 349.5,-479 349.5,-473 349.5,-473 349.5,-399 349.5,-399 349.5,-393 355.5,-387 361.5,-387 361.5,-387 521.5,-387 521.5,-387 527.5,-387 533.5,-393 533.5,-399 533.5,-399 533.5,-473 533.5,-473 533.5,-479 527.5,-485 521.5,-485\"/>\n<text text-anchor=\"start\" x=\"410.5\" y=\"-469.8\" font-family=\"Helvetica,sans-Serif\" font-size=\"14.00\" fill=\"#000000\">node #10</text>\n<text text-anchor=\"start\" x=\"369\" y=\"-454.8\" font-family=\"Helvetica,sans-Serif\" font-size=\"14.00\" fill=\"#000000\">PetalLengthCm ≤ 4.85</text>\n<text text-anchor=\"start\" x=\"403.5\" y=\"-439.8\" font-family=\"Helvetica,sans-Serif\" font-size=\"14.00\" fill=\"#000000\">gini = 0.051</text>\n<text text-anchor=\"start\" x=\"385.5\" y=\"-424.8\" font-family=\"Helvetica,sans-Serif\" font-size=\"14.00\" fill=\"#000000\">samples = 31.7%</text>\n<text text-anchor=\"start\" x=\"357.5\" y=\"-409.8\" font-family=\"Helvetica,sans-Serif\" font-size=\"14.00\" fill=\"#000000\">value = [0.0, 0.026, 0.974]</text>\n<text text-anchor=\"start\" x=\"378\" y=\"-394.8\" font-family=\"Helvetica,sans-Serif\" font-size=\"14.00\" fill=\"#000000\">class = Iris&#45;virginica</text>\n</g>\n<!-- 2&#45;&gt;10 -->\n<g id=\"edge10\" class=\"edge\">\n<title>2&#45;&gt;10</title>\n<path fill=\"none\" stroke=\"#000000\" d=\"M377.5352,-520.8642C384.3281,-511.8519 391.4716,-502.3743 398.4233,-493.1513\"/>\n<polygon fill=\"#000000\" stroke=\"#000000\" points=\"401.2452,-495.2222 404.4693,-485.1298 395.6552,-491.0088 401.2452,-495.2222\"/>\n</g>\n<!-- 4 -->\n<g id=\"node5\" class=\"node\">\n<title>4</title>\n<path fill=\"#39e581\" stroke=\"#000000\" d=\"M140.5,-343.5C140.5,-343.5 12.5,-343.5 12.5,-343.5 6.5,-343.5 .5,-337.5 .5,-331.5 .5,-331.5 .5,-272.5 .5,-272.5 .5,-266.5 6.5,-260.5 12.5,-260.5 12.5,-260.5 140.5,-260.5 140.5,-260.5 146.5,-260.5 152.5,-266.5 152.5,-272.5 152.5,-272.5 152.5,-331.5 152.5,-331.5 152.5,-337.5 146.5,-343.5 140.5,-343.5\"/>\n<text text-anchor=\"start\" x=\"49.5\" y=\"-328.3\" font-family=\"Helvetica,sans-Serif\" font-size=\"14.00\" fill=\"#000000\">node #4</text>\n<text text-anchor=\"start\" x=\"47\" y=\"-313.3\" font-family=\"Helvetica,sans-Serif\" font-size=\"14.00\" fill=\"#000000\">gini = 0.0</text>\n<text text-anchor=\"start\" x=\"20.5\" y=\"-298.3\" font-family=\"Helvetica,sans-Serif\" font-size=\"14.00\" fill=\"#000000\">samples = 31.7%</text>\n<text text-anchor=\"start\" x=\"9\" y=\"-283.3\" font-family=\"Helvetica,sans-Serif\" font-size=\"14.00\" fill=\"#000000\">value = [0.0, 1.0, 0.0]</text>\n<text text-anchor=\"start\" x=\"8.5\" y=\"-268.3\" font-family=\"Helvetica,sans-Serif\" font-size=\"14.00\" fill=\"#000000\">class = Iris&#45;versicolor</text>\n</g>\n<!-- 3&#45;&gt;4 -->\n<g id=\"edge4\" class=\"edge\">\n<title>3&#45;&gt;4</title>\n<path fill=\"none\" stroke=\"#000000\" d=\"M179.7304,-386.8642C165.1644,-374.8898 149.5995,-362.0941 135.0891,-350.1653\"/>\n<polygon fill=\"#000000\" stroke=\"#000000\" points=\"137.0968,-347.2849 127.1494,-343.6381 132.6515,-352.6923 137.0968,-347.2849\"/>\n</g>\n<!-- 5 -->\n<g id=\"node6\" class=\"node\">\n<title>5</title>\n<path fill=\"#a06aec\" stroke=\"#000000\" d=\"M310.5,-351C310.5,-351 182.5,-351 182.5,-351 176.5,-351 170.5,-345 170.5,-339 170.5,-339 170.5,-265 170.5,-265 170.5,-259 176.5,-253 182.5,-253 182.5,-253 310.5,-253 310.5,-253 316.5,-253 322.5,-259 322.5,-265 322.5,-265 322.5,-339 322.5,-339 322.5,-345 316.5,-351 310.5,-351\"/>\n<text text-anchor=\"start\" x=\"219.5\" y=\"-335.8\" font-family=\"Helvetica,sans-Serif\" font-size=\"14.00\" fill=\"#000000\">node #5</text>\n<text text-anchor=\"start\" x=\"178.5\" y=\"-320.8\" font-family=\"Helvetica,sans-Serif\" font-size=\"14.00\" fill=\"#000000\">PetalWidthCm ≤ 1.55</text>\n<text text-anchor=\"start\" x=\"213\" y=\"-305.8\" font-family=\"Helvetica,sans-Serif\" font-size=\"14.00\" fill=\"#000000\">gini = 0.32</text>\n<text text-anchor=\"start\" x=\"194.5\" y=\"-290.8\" font-family=\"Helvetica,sans-Serif\" font-size=\"14.00\" fill=\"#000000\">samples = 4.2%</text>\n<text text-anchor=\"start\" x=\"179\" y=\"-275.8\" font-family=\"Helvetica,sans-Serif\" font-size=\"14.00\" fill=\"#000000\">value = [0.0, 0.2, 0.8]</text>\n<text text-anchor=\"start\" x=\"183\" y=\"-260.8\" font-family=\"Helvetica,sans-Serif\" font-size=\"14.00\" fill=\"#000000\">class = Iris&#45;virginica</text>\n</g>\n<!-- 3&#45;&gt;5 -->\n<g id=\"edge5\" class=\"edge\">\n<title>3&#45;&gt;5</title>\n<path fill=\"none\" stroke=\"#000000\" d=\"M242.0668,-386.8642C242.4995,-378.5802 242.9528,-369.903 243.3974,-361.3918\"/>\n<polygon fill=\"#000000\" stroke=\"#000000\" points=\"246.907,-361.2988 243.9335,-351.1298 239.9165,-360.9336 246.907,-361.2988\"/>\n</g>\n<!-- 6 -->\n<g id=\"node7\" class=\"node\">\n<title>6</title>\n<path fill=\"#8139e5\" stroke=\"#000000\" d=\"M139,-209.5C139,-209.5 12,-209.5 12,-209.5 6,-209.5 0,-203.5 0,-197.5 0,-197.5 0,-138.5 0,-138.5 0,-132.5 6,-126.5 12,-126.5 12,-126.5 139,-126.5 139,-126.5 145,-126.5 151,-132.5 151,-138.5 151,-138.5 151,-197.5 151,-197.5 151,-203.5 145,-209.5 139,-209.5\"/>\n<text text-anchor=\"start\" x=\"48.5\" y=\"-194.3\" font-family=\"Helvetica,sans-Serif\" font-size=\"14.00\" fill=\"#000000\">node #6</text>\n<text text-anchor=\"start\" x=\"46\" y=\"-179.3\" font-family=\"Helvetica,sans-Serif\" font-size=\"14.00\" fill=\"#000000\">gini = 0.0</text>\n<text text-anchor=\"start\" x=\"23.5\" y=\"-164.3\" font-family=\"Helvetica,sans-Serif\" font-size=\"14.00\" fill=\"#000000\">samples = 2.5%</text>\n<text text-anchor=\"start\" x=\"8\" y=\"-149.3\" font-family=\"Helvetica,sans-Serif\" font-size=\"14.00\" fill=\"#000000\">value = [0.0, 0.0, 1.0]</text>\n<text text-anchor=\"start\" x=\"12\" y=\"-134.3\" font-family=\"Helvetica,sans-Serif\" font-size=\"14.00\" fill=\"#000000\">class = Iris&#45;virginica</text>\n</g>\n<!-- 5&#45;&gt;6 -->\n<g id=\"edge6\" class=\"edge\">\n<title>5&#45;&gt;6</title>\n<path fill=\"none\" stroke=\"#000000\" d=\"M183.7969,-252.8642C168.3746,-240.7789 151.8847,-227.857 136.5421,-215.8342\"/>\n<polygon fill=\"#000000\" stroke=\"#000000\" points=\"138.6652,-213.0513 128.6352,-209.6381 134.3476,-218.5611 138.6652,-213.0513\"/>\n</g>\n<!-- 7 -->\n<g id=\"node8\" class=\"node\">\n<title>7</title>\n<path fill=\"#ffffff\" stroke=\"#000000\" d=\"M318,-217C318,-217 181,-217 181,-217 175,-217 169,-211 169,-205 169,-205 169,-131 169,-131 169,-125 175,-119 181,-119 181,-119 318,-119 318,-119 324,-119 330,-125 330,-131 330,-131 330,-205 330,-205 330,-211 324,-217 318,-217\"/>\n<text text-anchor=\"start\" x=\"222.5\" y=\"-201.8\" font-family=\"Helvetica,sans-Serif\" font-size=\"14.00\" fill=\"#000000\">node #7</text>\n<text text-anchor=\"start\" x=\"177\" y=\"-186.8\" font-family=\"Helvetica,sans-Serif\" font-size=\"14.00\" fill=\"#000000\">PetalLengthCm ≤ 5.45</text>\n<text text-anchor=\"start\" x=\"220\" y=\"-171.8\" font-family=\"Helvetica,sans-Serif\" font-size=\"14.00\" fill=\"#000000\">gini = 0.5</text>\n<text text-anchor=\"start\" x=\"197.5\" y=\"-156.8\" font-family=\"Helvetica,sans-Serif\" font-size=\"14.00\" fill=\"#000000\">samples = 1.7%</text>\n<text text-anchor=\"start\" x=\"182\" y=\"-141.8\" font-family=\"Helvetica,sans-Serif\" font-size=\"14.00\" fill=\"#000000\">value = [0.0, 0.5, 0.5]</text>\n<text text-anchor=\"start\" x=\"181.5\" y=\"-126.8\" font-family=\"Helvetica,sans-Serif\" font-size=\"14.00\" fill=\"#000000\">class = Iris&#45;versicolor</text>\n</g>\n<!-- 5&#45;&gt;7 -->\n<g id=\"edge7\" class=\"edge\">\n<title>5&#45;&gt;7</title>\n<path fill=\"none\" stroke=\"#000000\" d=\"M247.6001,-252.8642C247.7855,-244.5802 247.9798,-235.903 248.1703,-227.3918\"/>\n<polygon fill=\"#000000\" stroke=\"#000000\" points=\"251.6753,-227.2057 248.4001,-217.1298 244.677,-227.0489 251.6753,-227.2057\"/>\n</g>\n<!-- 8 -->\n<g id=\"node9\" class=\"node\">\n<title>8</title>\n<path fill=\"#39e581\" stroke=\"#000000\" d=\"M228.5,-83C228.5,-83 100.5,-83 100.5,-83 94.5,-83 88.5,-77 88.5,-71 88.5,-71 88.5,-12 88.5,-12 88.5,-6 94.5,0 100.5,0 100.5,0 228.5,0 228.5,0 234.5,0 240.5,-6 240.5,-12 240.5,-12 240.5,-71 240.5,-71 240.5,-77 234.5,-83 228.5,-83\"/>\n<text text-anchor=\"start\" x=\"137.5\" y=\"-67.8\" font-family=\"Helvetica,sans-Serif\" font-size=\"14.00\" fill=\"#000000\">node #8</text>\n<text text-anchor=\"start\" x=\"135\" y=\"-52.8\" font-family=\"Helvetica,sans-Serif\" font-size=\"14.00\" fill=\"#000000\">gini = 0.0</text>\n<text text-anchor=\"start\" x=\"112.5\" y=\"-37.8\" font-family=\"Helvetica,sans-Serif\" font-size=\"14.00\" fill=\"#000000\">samples = 0.8%</text>\n<text text-anchor=\"start\" x=\"97\" y=\"-22.8\" font-family=\"Helvetica,sans-Serif\" font-size=\"14.00\" fill=\"#000000\">value = [0.0, 1.0, 0.0]</text>\n<text text-anchor=\"start\" x=\"96.5\" y=\"-7.8\" font-family=\"Helvetica,sans-Serif\" font-size=\"14.00\" fill=\"#000000\">class = Iris&#45;versicolor</text>\n</g>\n<!-- 7&#45;&gt;8 -->\n<g id=\"edge8\" class=\"edge\">\n<title>7&#45;&gt;8</title>\n<path fill=\"none\" stroke=\"#000000\" d=\"M216.3934,-118.7296C210.3881,-109.7924 204.1195,-100.4631 198.1002,-91.505\"/>\n<polygon fill=\"#000000\" stroke=\"#000000\" points=\"200.9047,-89.4032 192.4223,-83.055 195.0945,-93.3073 200.9047,-89.4032\"/>\n</g>\n<!-- 9 -->\n<g id=\"node10\" class=\"node\">\n<title>9</title>\n<path fill=\"#8139e5\" stroke=\"#000000\" d=\"M398,-83C398,-83 271,-83 271,-83 265,-83 259,-77 259,-71 259,-71 259,-12 259,-12 259,-6 265,0 271,0 271,0 398,0 398,0 404,0 410,-6 410,-12 410,-12 410,-71 410,-71 410,-77 404,-83 398,-83\"/>\n<text text-anchor=\"start\" x=\"307.5\" y=\"-67.8\" font-family=\"Helvetica,sans-Serif\" font-size=\"14.00\" fill=\"#000000\">node #9</text>\n<text text-anchor=\"start\" x=\"305\" y=\"-52.8\" font-family=\"Helvetica,sans-Serif\" font-size=\"14.00\" fill=\"#000000\">gini = 0.0</text>\n<text text-anchor=\"start\" x=\"282.5\" y=\"-37.8\" font-family=\"Helvetica,sans-Serif\" font-size=\"14.00\" fill=\"#000000\">samples = 0.8%</text>\n<text text-anchor=\"start\" x=\"267\" y=\"-22.8\" font-family=\"Helvetica,sans-Serif\" font-size=\"14.00\" fill=\"#000000\">value = [0.0, 0.0, 1.0]</text>\n<text text-anchor=\"start\" x=\"271\" y=\"-7.8\" font-family=\"Helvetica,sans-Serif\" font-size=\"14.00\" fill=\"#000000\">class = Iris&#45;virginica</text>\n</g>\n<!-- 7&#45;&gt;9 -->\n<g id=\"edge9\" class=\"edge\">\n<title>7&#45;&gt;9</title>\n<path fill=\"none\" stroke=\"#000000\" d=\"M282.6066,-118.7296C288.6119,-109.7924 294.8805,-100.4631 300.8998,-91.505\"/>\n<polygon fill=\"#000000\" stroke=\"#000000\" points=\"303.9055,-93.3073 306.5777,-83.055 298.0953,-89.4032 303.9055,-93.3073\"/>\n</g>\n<!-- 11 -->\n<g id=\"node12\" class=\"node\">\n<title>11</title>\n<path fill=\"#ab7bee\" stroke=\"#000000\" d=\"M511,-351C511,-351 368,-351 368,-351 362,-351 356,-345 356,-339 356,-339 356,-265 356,-265 356,-259 362,-253 368,-253 368,-253 511,-253 511,-253 517,-253 523,-259 523,-265 523,-265 523,-339 523,-339 523,-345 517,-351 511,-351\"/>\n<text text-anchor=\"start\" x=\"408.5\" y=\"-335.8\" font-family=\"Helvetica,sans-Serif\" font-size=\"14.00\" fill=\"#000000\">node #11</text>\n<text text-anchor=\"start\" x=\"373\" y=\"-320.8\" font-family=\"Helvetica,sans-Serif\" font-size=\"14.00\" fill=\"#000000\">SepalWidthCm ≤ 3.1</text>\n<text text-anchor=\"start\" x=\"401.5\" y=\"-305.8\" font-family=\"Helvetica,sans-Serif\" font-size=\"14.00\" fill=\"#000000\">gini = 0.375</text>\n<text text-anchor=\"start\" x=\"387.5\" y=\"-290.8\" font-family=\"Helvetica,sans-Serif\" font-size=\"14.00\" fill=\"#000000\">samples = 3.3%</text>\n<text text-anchor=\"start\" x=\"364\" y=\"-275.8\" font-family=\"Helvetica,sans-Serif\" font-size=\"14.00\" fill=\"#000000\">value = [0.0, 0.25, 0.75]</text>\n<text text-anchor=\"start\" x=\"376\" y=\"-260.8\" font-family=\"Helvetica,sans-Serif\" font-size=\"14.00\" fill=\"#000000\">class = Iris&#45;virginica</text>\n</g>\n<!-- 10&#45;&gt;11 -->\n<g id=\"edge11\" class=\"edge\">\n<title>10&#45;&gt;11</title>\n<path fill=\"none\" stroke=\"#000000\" d=\"M440.7666,-386.8642C440.643,-378.5802 440.5135,-369.903 440.3864,-361.3918\"/>\n<polygon fill=\"#000000\" stroke=\"#000000\" points=\"443.8822,-361.0764 440.2333,-351.1298 436.883,-361.181 443.8822,-361.0764\"/>\n</g>\n<!-- 14 -->\n<g id=\"node15\" class=\"node\">\n<title>14</title>\n<path fill=\"#8139e5\" stroke=\"#000000\" d=\"M680,-343.5C680,-343.5 553,-343.5 553,-343.5 547,-343.5 541,-337.5 541,-331.5 541,-331.5 541,-272.5 541,-272.5 541,-266.5 547,-260.5 553,-260.5 553,-260.5 680,-260.5 680,-260.5 686,-260.5 692,-266.5 692,-272.5 692,-272.5 692,-331.5 692,-331.5 692,-337.5 686,-343.5 680,-343.5\"/>\n<text text-anchor=\"start\" x=\"585.5\" y=\"-328.3\" font-family=\"Helvetica,sans-Serif\" font-size=\"14.00\" fill=\"#000000\">node #14</text>\n<text text-anchor=\"start\" x=\"587\" y=\"-313.3\" font-family=\"Helvetica,sans-Serif\" font-size=\"14.00\" fill=\"#000000\">gini = 0.0</text>\n<text text-anchor=\"start\" x=\"560.5\" y=\"-298.3\" font-family=\"Helvetica,sans-Serif\" font-size=\"14.00\" fill=\"#000000\">samples = 28.3%</text>\n<text text-anchor=\"start\" x=\"549\" y=\"-283.3\" font-family=\"Helvetica,sans-Serif\" font-size=\"14.00\" fill=\"#000000\">value = [0.0, 0.0, 1.0]</text>\n<text text-anchor=\"start\" x=\"553\" y=\"-268.3\" font-family=\"Helvetica,sans-Serif\" font-size=\"14.00\" fill=\"#000000\">class = Iris&#45;virginica</text>\n</g>\n<!-- 10&#45;&gt;14 -->\n<g id=\"edge14\" class=\"edge\">\n<title>10&#45;&gt;14</title>\n<path fill=\"none\" stroke=\"#000000\" d=\"M505.6698,-386.8642C521.4529,-374.7789 538.3285,-361.857 554.03,-349.8342\"/>\n<polygon fill=\"#000000\" stroke=\"#000000\" points=\"556.31,-352.4966 562.1218,-343.6381 552.0542,-346.9388 556.31,-352.4966\"/>\n</g>\n<!-- 12 -->\n<g id=\"node13\" class=\"node\">\n<title>12</title>\n<path fill=\"#8139e5\" stroke=\"#000000\" d=\"M501,-209.5C501,-209.5 374,-209.5 374,-209.5 368,-209.5 362,-203.5 362,-197.5 362,-197.5 362,-138.5 362,-138.5 362,-132.5 368,-126.5 374,-126.5 374,-126.5 501,-126.5 501,-126.5 507,-126.5 513,-132.5 513,-138.5 513,-138.5 513,-197.5 513,-197.5 513,-203.5 507,-209.5 501,-209.5\"/>\n<text text-anchor=\"start\" x=\"406.5\" y=\"-194.3\" font-family=\"Helvetica,sans-Serif\" font-size=\"14.00\" fill=\"#000000\">node #12</text>\n<text text-anchor=\"start\" x=\"408\" y=\"-179.3\" font-family=\"Helvetica,sans-Serif\" font-size=\"14.00\" fill=\"#000000\">gini = 0.0</text>\n<text text-anchor=\"start\" x=\"385.5\" y=\"-164.3\" font-family=\"Helvetica,sans-Serif\" font-size=\"14.00\" fill=\"#000000\">samples = 2.5%</text>\n<text text-anchor=\"start\" x=\"370\" y=\"-149.3\" font-family=\"Helvetica,sans-Serif\" font-size=\"14.00\" fill=\"#000000\">value = [0.0, 0.0, 1.0]</text>\n<text text-anchor=\"start\" x=\"374\" y=\"-134.3\" font-family=\"Helvetica,sans-Serif\" font-size=\"14.00\" fill=\"#000000\">class = Iris&#45;virginica</text>\n</g>\n<!-- 11&#45;&gt;12 -->\n<g id=\"edge12\" class=\"edge\">\n<title>11&#45;&gt;12</title>\n<path fill=\"none\" stroke=\"#000000\" d=\"M438.7666,-252.8642C438.6061,-242.1094 438.4357,-230.6921 438.2737,-219.8354\"/>\n<polygon fill=\"#000000\" stroke=\"#000000\" points=\"441.7704,-219.5848 438.1215,-209.6381 434.7712,-219.6893 441.7704,-219.5848\"/>\n</g>\n<!-- 13 -->\n<g id=\"node14\" class=\"node\">\n<title>13</title>\n<path fill=\"#39e581\" stroke=\"#000000\" d=\"M671.5,-209.5C671.5,-209.5 543.5,-209.5 543.5,-209.5 537.5,-209.5 531.5,-203.5 531.5,-197.5 531.5,-197.5 531.5,-138.5 531.5,-138.5 531.5,-132.5 537.5,-126.5 543.5,-126.5 543.5,-126.5 671.5,-126.5 671.5,-126.5 677.5,-126.5 683.5,-132.5 683.5,-138.5 683.5,-138.5 683.5,-197.5 683.5,-197.5 683.5,-203.5 677.5,-209.5 671.5,-209.5\"/>\n<text text-anchor=\"start\" x=\"576.5\" y=\"-194.3\" font-family=\"Helvetica,sans-Serif\" font-size=\"14.00\" fill=\"#000000\">node #13</text>\n<text text-anchor=\"start\" x=\"578\" y=\"-179.3\" font-family=\"Helvetica,sans-Serif\" font-size=\"14.00\" fill=\"#000000\">gini = 0.0</text>\n<text text-anchor=\"start\" x=\"555.5\" y=\"-164.3\" font-family=\"Helvetica,sans-Serif\" font-size=\"14.00\" fill=\"#000000\">samples = 0.8%</text>\n<text text-anchor=\"start\" x=\"540\" y=\"-149.3\" font-family=\"Helvetica,sans-Serif\" font-size=\"14.00\" fill=\"#000000\">value = [0.0, 1.0, 0.0]</text>\n<text text-anchor=\"start\" x=\"539.5\" y=\"-134.3\" font-family=\"Helvetica,sans-Serif\" font-size=\"14.00\" fill=\"#000000\">class = Iris&#45;versicolor</text>\n</g>\n<!-- 11&#45;&gt;13 -->\n<g id=\"edge13\" class=\"edge\">\n<title>11&#45;&gt;13</title>\n<path fill=\"none\" stroke=\"#000000\" d=\"M501.103,-252.8642C516.1158,-240.8898 532.1582,-228.0941 547.1136,-216.1653\"/>\n<polygon fill=\"#000000\" stroke=\"#000000\" points=\"549.6617,-218.61 555.297,-209.6381 545.2967,-213.1375 549.6617,-218.61\"/>\n</g>\n</g>\n</svg>\n"
          },
          "metadata": {
            "tags": []
          },
          "execution_count": 39
        }
      ]
    },
    {
      "cell_type": "code",
      "metadata": {
        "colab": {
          "base_uri": "https://localhost:8080/",
          "height": 440,
          "referenced_widgets": [
            "45bef9af9bb645118a0e2dfb8d6bd2f7",
            "b64758da0d624ab295b0469bebcb6336",
            "fd6d8b3035d74df69cc7c77c3e5dabcc",
            "0426122d3cf84426ab7f6ca9e5b35222",
            "44d13e3e0b1a477284a3446f94a96350",
            "dbe2a76c18d2405da756747e924d14f2",
            "1c847c73d3dd4594b4763ff3e8a8f112",
            "a4a13de1f08c4e0987ff8624bcda99cd",
            "22a9502c1fb646c2bd1f1ee052681513",
            "d3826311566d44e8b18ee3dacddc630b",
            "d2bb75dcd0e44af6b2fbdcb9f52b0a5b",
            "6f58c0ed1293432fb1bc083c50ec5dfc",
            "49b30643890344c6994369f6d651eabe",
            "4e9b4f44def8433c819f9a7d12fbc6ff",
            "3aaf9fc044f8490e86c52a05bbfe90f6",
            "35a7b7d419634f2cbc25c176f09aae2c",
            "ed27526808ad472991fbb598ca8b4444",
            "f67aafbb1a1e478ebd0d5c9e6da219c0",
            "5c1b5a46f58b4c8eb89cefb6447b6fb6"
          ]
        },
        "id": "ZUBGjmbX4323",
        "outputId": "5d7f7c0e-3106-4226-eb3c-688eab8da669"
      },
      "source": [
        "# Renderizando a árvore de forma gráfica (Com parâmetros)\n",
        "\n",
        "x, y = iris.drop('Class', axis=1), iris['Class']\n",
        "\n",
        "features_label = iris.drop('Class', axis=1).columns\n",
        "\n",
        "class_label = ['Iris-setosa', 'Iris-versicolor', 'Iris-virginica']\n",
        "\n",
        "\n",
        "def plot_tree(crit, split, depth, min_samples_split, min_samples_leaf=0.2):\n",
        "    estimator = DecisionTreeClassifier(\n",
        "        random_state=0,\n",
        "        criterion=crit,\n",
        "        splitter=split,\n",
        "        max_depth=depth,\n",
        "        min_samples_split=min_samples_split,\n",
        "        min_samples_leaf=min_samples_leaf\n",
        "    )\n",
        "    estimator.fit(x, y)\n",
        "    graph = Source(export_graphviz(\n",
        "        estimator,\n",
        "        out_file=None,\n",
        "        feature_names=features_label,\n",
        "        class_names=class_label,\n",
        "        impurity=True,\n",
        "        filled = True))\n",
        "    display(SVG(graph.pipe(format='svg')))\n",
        "    return estimator\n",
        "\n",
        "inter=interactive(\n",
        "    plot_tree,\n",
        "    crit = [\"gini\", \"entropy\"],\n",
        "    split = [\"best\", \"random\"],\n",
        "    depth=[1, 2, 3, 4, 5, 6, 7, 8, 10],\n",
        "    min_samples_split=(1, 5),\n",
        "    min_samples_leaf=(1, 5))\n",
        "\n",
        "display(inter)"
      ],
      "execution_count": 40,
      "outputs": [
        {
          "output_type": "display_data",
          "data": {
            "application/vnd.jupyter.widget-view+json": {
              "model_id": "45bef9af9bb645118a0e2dfb8d6bd2f7",
              "version_minor": 0,
              "version_major": 2
            },
            "text/plain": [
              "interactive(children=(Dropdown(description='crit', options=('gini', 'entropy'), value='gini'), Dropdown(descri…"
            ]
          },
          "metadata": {
            "tags": []
          }
        }
      ]
    },
    {
      "cell_type": "markdown",
      "metadata": {
        "id": "1ZqVRlD2vYm2"
      },
      "source": [
        "### Navegando na estrutura da arvore de decisão"
      ]
    },
    {
      "cell_type": "code",
      "metadata": {
        "colab": {
          "base_uri": "https://localhost:8080/"
        },
        "id": "KMPD6-7mWj8h",
        "outputId": "c071c603-d36e-4a9b-936a-749c891f04a2"
      },
      "source": [
        "estimator = DecisionTreeClassifier(max_depth=3, min_samples_split=2, min_samples_leaf=2)\n",
        "estimator.fit(x, y)\n",
        "DecisionTreeClassifier(class_weight=None, criterion='gini', max_depth=3,\n",
        "                       max_features=None, max_leaf_nodes=None,\n",
        "                       min_impurity_decrease=0.0, min_impurity_split=None,\n",
        "                       min_samples_leaf=2, min_samples_split=2,\n",
        "                       min_weight_fraction_leaf=0.0, presort=False,\n",
        "                       random_state=None, splitter='best')\n",
        "n_nodes = estimator.tree_.node_count\n",
        "children_left = estimator.tree_.children_left\n",
        "children_right = estimator.tree_.children_right\n",
        "feature = estimator.tree_.feature\n",
        "threshold = estimator.tree_.threshold\n",
        "\n",
        "print(\"Número de nós: {}\".format(n_nodes))"
      ],
      "execution_count": 41,
      "outputs": [
        {
          "output_type": "stream",
          "text": [
            "Número de nós: 9\n"
          ],
          "name": "stdout"
        }
      ]
    },
    {
      "cell_type": "code",
      "metadata": {
        "colab": {
          "base_uri": "https://localhost:8080/"
        },
        "id": "qsQJeFbeh8Nu",
        "outputId": "f6ecf18d-e42f-4910-b144-a0973e521983"
      },
      "source": [
        "node_depth = np.zeros(shape=n_nodes, dtype=np.int64)\n",
        "is_leaves = np.zeros(shape=n_nodes, dtype=bool)\n",
        "stack = [(0, -1)]\n",
        "while len(stack) > 0:\n",
        "    node_id, parent_depth = stack.pop()\n",
        "    node_depth[node_id] = parent_depth + 1\n",
        "\n",
        "    if (children_left[node_id] != children_right[node_id]):\n",
        "        stack.append((children_left[node_id], parent_depth + 1))\n",
        "        stack.append((children_right[node_id], parent_depth + 1))\n",
        "    else:\n",
        "        is_leaves[node_id] = True\n",
        "\n",
        "print(\"\\nA arvore binária tem %s nós e a seguinte estrutura: \\n\"\n",
        "      % n_nodes)\n",
        "for i in range(n_nodes):\n",
        "    if is_leaves[i]:\n",
        "        print(\"%snó = %s (nó folha).\" % (node_depth[i] * \"\\t\", i))\n",
        "    else:\n",
        "        print(\"%snó = %s (nó teste): vai para o nó %s se o valor do atributo %s <= %s \\n se não, vai para o \"\n",
        "              \"nó %s.\"\n",
        "              % (node_depth[i] * \"\\t\",\n",
        "                 i,\n",
        "                 children_left[i],\n",
        "                 iris.columns[feature[i]],\n",
        "                 threshold[i],\n",
        "                 children_right[i],\n",
        "                 ))"
      ],
      "execution_count": 42,
      "outputs": [
        {
          "output_type": "stream",
          "text": [
            "\n",
            "A arvore binária tem 9 nós e a seguinte estrutura: \n",
            "\n",
            "nó = 0 (nó teste): vai para o nó 1 se o valor do atributo PetalWidthCm <= 0.800000011920929 \n",
            " se não, vai para o nó 2.\n",
            "\tnó = 1 (nó folha).\n",
            "\tnó = 2 (nó teste): vai para o nó 3 se o valor do atributo PetalWidthCm <= 1.75 \n",
            " se não, vai para o nó 6.\n",
            "\t\tnó = 3 (nó teste): vai para o nó 4 se o valor do atributo PetalLengthCm <= 4.950000047683716 \n",
            " se não, vai para o nó 5.\n",
            "\t\t\tnó = 4 (nó folha).\n",
            "\t\t\tnó = 5 (nó folha).\n",
            "\t\tnó = 6 (nó teste): vai para o nó 7 se o valor do atributo PetalLengthCm <= 4.8500001430511475 \n",
            " se não, vai para o nó 8.\n",
            "\t\t\tnó = 7 (nó folha).\n",
            "\t\t\tnó = 8 (nó folha).\n"
          ],
          "name": "stdout"
        }
      ]
    },
    {
      "cell_type": "markdown",
      "metadata": {
        "id": "tEtHlTExv7FX"
      },
      "source": [
        "## Classificador - Modelo 2 - Dados correspondentes às sépalas"
      ]
    },
    {
      "cell_type": "markdown",
      "metadata": {
        "id": "wU1DugI0wYpH"
      },
      "source": [
        "### Preparação dos dados"
      ]
    },
    {
      "cell_type": "code",
      "metadata": {
        "colab": {
          "base_uri": "https://localhost:8080/"
        },
        "id": "GpMurquZ6N5z",
        "outputId": "d1a9a4eb-4205-48aa-82a4-808144c677b7"
      },
      "source": [
        "# Definição de dados\n",
        "sepal = iris[['SepalLengthCm', 'SepalWidthCm', 'Class']]\n",
        "\n",
        "# Separação dos dados, onde x_sepal são as características e y_sepal o nosso alvo, neste caso a coluna Class\n",
        "x_sepal = np.array(sepal.drop(['Class'], 1))\n",
        "y_sepal = np.array(sepal['Class'])\n",
        "\n",
        "# Separação dos dados de treinamento e teste\n",
        "x_train_s, x_test_s, y_train_s, y_test_s = train_test_split(x_sepal, y_sepal, test_size=0.2)\n",
        "\n",
        "print(f'São {x_train_s.shape[0]} dados das sépalas para treinamento e {y_test_s.shape[0]} dados para teste.')"
      ],
      "execution_count": 43,
      "outputs": [
        {
          "output_type": "stream",
          "text": [
            "São 120 dados das sépalas para treinamento e 30 dados para teste.\n"
          ],
          "name": "stdout"
        }
      ]
    },
    {
      "cell_type": "markdown",
      "metadata": {
        "id": "OVC2_W9kwfxP"
      },
      "source": [
        "### Aplicando o algoritmo"
      ]
    },
    {
      "cell_type": "code",
      "metadata": {
        "colab": {
          "base_uri": "https://localhost:8080/"
        },
        "id": "J-pqkAVv8dYa",
        "outputId": "e9772dbf-da2b-4a1e-c55c-c2d038ca1b93"
      },
      "source": [
        "# Aplicando o algoritmo de aprendizagem de máquina, instanciando, treinando e fazendo uma previsão\n",
        "algoritmo = DecisionTreeClassifier()\n",
        "algoritmo = algoritmo.fit(x_train_s, y_train_s)\n",
        "y_pred = algoritmo.predict(x_test_s)\n",
        "\n",
        "print(y_pred)\n",
        "print()\n",
        "\n",
        "# Calculando a precisão do algoritmo\n",
        "print(f'Precisão do modelo: {algoritmo.score(x_train_s, y_train_s) * 100}')"
      ],
      "execution_count": 44,
      "outputs": [
        {
          "output_type": "stream",
          "text": [
            "['Iris-setosa' 'Iris-setosa' 'Iris-virginica' 'Iris-setosa' 'Iris-setosa'\n",
            " 'Iris-versicolor' 'Iris-versicolor' 'Iris-versicolor' 'Iris-versicolor'\n",
            " 'Iris-setosa' 'Iris-versicolor' 'Iris-setosa' 'Iris-setosa' 'Iris-setosa'\n",
            " 'Iris-versicolor' 'Iris-setosa' 'Iris-setosa' 'Iris-versicolor'\n",
            " 'Iris-versicolor' 'Iris-setosa' 'Iris-versicolor' 'Iris-virginica'\n",
            " 'Iris-versicolor' 'Iris-setosa' 'Iris-versicolor' 'Iris-versicolor'\n",
            " 'Iris-versicolor' 'Iris-setosa' 'Iris-setosa' 'Iris-virginica']\n",
            "\n",
            "Precisão do modelo: 94.16666666666667\n"
          ],
          "name": "stdout"
        }
      ]
    },
    {
      "cell_type": "markdown",
      "metadata": {
        "id": "9ZgVyMFXwog6"
      },
      "source": [
        "## Classificador - Modelo 3 - Dados correspondentes às pétalas"
      ]
    },
    {
      "cell_type": "markdown",
      "metadata": {
        "id": "xsOgS99_wv4P"
      },
      "source": [
        "### Preparação dos dados"
      ]
    },
    {
      "cell_type": "code",
      "metadata": {
        "colab": {
          "base_uri": "https://localhost:8080/"
        },
        "id": "ynz4RZ1u9InP",
        "outputId": "1c9616b6-0b2b-4d84-b2cb-2bfdf0a59153"
      },
      "source": [
        "# Definição de dados\n",
        "petal = iris[['PetalLengthCm', 'PetalWidthCm', 'Class']]\n",
        "\n",
        "# Separação dos dados, onde x_petal são as características e y_petal o nosso alvo, neste caso a coluna Class\n",
        "x_petal = np.array(petal.drop(['Class'], 1))\n",
        "y_petal = np.array(petal['Class'])\n",
        "\n",
        "# Separação dos dados de treinamento e teste\n",
        "x_train_p, x_test_p, y_train_p, y_test_p = train_test_split(x_petal, y_petal, test_size=0.2)\n",
        "\n",
        "print(f'São {x_train_p.shape[0]} dados das pétalas para treinamento e {y_test_p.shape[0]} dados para teste.')"
      ],
      "execution_count": 45,
      "outputs": [
        {
          "output_type": "stream",
          "text": [
            "São 120 dados das pétalas para treinamento e 30 dados para teste.\n"
          ],
          "name": "stdout"
        }
      ]
    },
    {
      "cell_type": "markdown",
      "metadata": {
        "id": "r5fb834swz_5"
      },
      "source": [
        "### Aplicando o algoritmo"
      ]
    },
    {
      "cell_type": "code",
      "metadata": {
        "colab": {
          "base_uri": "https://localhost:8080/"
        },
        "id": "l1xBwa0p9_P-",
        "outputId": "999a252c-bdcb-4e0e-a49a-945041050210"
      },
      "source": [
        "# Aplicando o algoritmo de aprendizagem de máquina, instanciando, treinando e fazendo uma previsão\n",
        "algoritmo = DecisionTreeClassifier()\n",
        "algoritmo = algoritmo.fit(x_train_p, y_train_p)\n",
        "y_pred = algoritmo.predict(x_test_p)\n",
        "\n",
        "print(y_pred)\n",
        "print()\n",
        "\n",
        "# Calculando a precisão do algoritmo\n",
        "print(f'Precisão do modelo: {algoritmo.score(x_train_p, y_train_p) * 100}')"
      ],
      "execution_count": 47,
      "outputs": [
        {
          "output_type": "stream",
          "text": [
            "['Iris-virginica' 'Iris-versicolor' 'Iris-setosa' 'Iris-versicolor'\n",
            " 'Iris-versicolor' 'Iris-versicolor' 'Iris-setosa' 'Iris-versicolor'\n",
            " 'Iris-setosa' 'Iris-virginica' 'Iris-versicolor' 'Iris-versicolor'\n",
            " 'Iris-versicolor' 'Iris-versicolor' 'Iris-versicolor' 'Iris-virginica'\n",
            " 'Iris-virginica' 'Iris-versicolor' 'Iris-virginica' 'Iris-setosa'\n",
            " 'Iris-setosa' 'Iris-versicolor' 'Iris-versicolor' 'Iris-versicolor'\n",
            " 'Iris-setosa' 'Iris-setosa' 'Iris-versicolor' 'Iris-versicolor'\n",
            " 'Iris-versicolor' 'Iris-setosa']\n",
            "\n",
            "Precisão do modelo: 99.16666666666667\n"
          ],
          "name": "stdout"
        }
      ]
    },
    {
      "cell_type": "markdown",
      "metadata": {
        "id": "gXHgV3_kyFKO"
      },
      "source": [
        "# Relatório"
      ]
    },
    {
      "cell_type": "code",
      "metadata": {
        "colab": {
          "base_uri": "https://localhost:8080/"
        },
        "id": "Y_f_6z52AWdV",
        "outputId": "befee891-709b-4ad1-8d63-29bee30e6a44"
      },
      "source": [
        "# Código usado para gerar relatório:\n",
        "  \n",
        "  #01 %cd caminho_do_arquivo_no_drive\n",
        "  #02 !sudo apt-get install texlive-xetex texlive-fonts-recommended texlive-generic-recommended\n",
        "  #03 !jupyter nbconvert --no-input fileName.ipynb\n",
        "\n",
        "  #04 alguns ajustes finais no html\n",
        "\n",
        "\n",
        "!jupyter nbconvert --no-input projeto_uea_ia.ipynb"
      ],
      "execution_count": 48,
      "outputs": [
        {
          "output_type": "stream",
          "text": [
            "[NbConvertApp] Converting notebook projeto_uea_ia.ipynb to html\n",
            "[NbConvertApp] Writing 368001 bytes to projeto_uea_ia.html\n"
          ],
          "name": "stdout"
        }
      ]
    }
  ]
}